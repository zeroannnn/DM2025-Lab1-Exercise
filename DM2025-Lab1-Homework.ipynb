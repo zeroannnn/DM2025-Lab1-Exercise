{
 "cells": [
  {
   "cell_type": "markdown",
   "metadata": {},
   "source": [
    "### Student Information\n",
    "Name: 林安情\n",
    "\n",
    "Student ID: 114062631\n",
    "\n",
    "GitHub ID: zeroannnn"
   ]
  },
  {
   "cell_type": "markdown",
   "metadata": {},
   "source": [
    "---"
   ]
  },
  {
   "cell_type": "markdown",
   "metadata": {},
   "source": [
    "### Instructions"
   ]
  },
  {
   "cell_type": "markdown",
   "metadata": {},
   "source": [
    "### First Phase Submission"
   ]
  },
  {
   "cell_type": "markdown",
   "metadata": {},
   "source": [
    "1. First: do the **take home** exercises in the [DM2025-Lab1-Master](https://github.com/leoson-wu/DM2025-Lab1-Exercise/blob/main/DM2025-Lab1-Master.ipynb) that considered as **phase 1 (from exercise 1 to exercise 15)**. You can answer in the master file. __This part is worth 10% of your grade.__\n",
    "\n",
    "\n",
    "2. Second: follow the same process from the [DM2025-Lab1-Master](https://github.com/leoson-wu/DM2025-Lab1-Exercise/blob/main/DM2025-Lab1-Master.ipynb) on **the new dataset** up **until phase 1**. You can skip some exercises if you think some steps are not necessary. However main exercises should be completed. You don't need to explain all details as we did (some **minimal comments** explaining your code are useful though).  __This part is worth 15% of your grade.__\n",
    "    -  Use [the new dataset](https://github.com/leoson-wu/DM2025-Lab1-Exercise/blob/main/newdataset/Reddit-stock-sentiment.csv). The dataset contains a 16 columns including 'text' and 'label', with the sentiment labels being: 1.0 is positive, 0.0 is neutral and -1.0 is negative. You can simplify the dataset and use only the columns that you think are necessary. \n",
    "    \n",
    "    - You are allowed to use and modify the `helper` functions in the folder of the first lab session (notice they may need modification) or create your own.\n",
    "    - Use this file to complete the homework from the second part. Make sure the code can be run from the beginning till the end and has all the needed output.\n",
    "\n",
    "\n",
    "3. Third: please attempt the following tasks on **the new dataset**. __This part is worth 10% of your grade.__\n",
    "    - Generate meaningful **new data visualizations**. Refer to online resources and the Data Mining textbook for inspiration and ideas. \n",
    "    \n",
    "\n",
    "\n",
    "4. Fourth: It's hard for us to follow if your code is messy, so please **tidy up your notebook** and **add minimal comments where needed**. __This part is worth 5% of your grade.__\n",
    "\n",
    "You can submit your homework following these guidelines: [DM2025-Lab1-announcement](https://github.com/leoson-wu/DM2025-Lab1-Announcement/blob/main/README.md). Make sure to commit and save your changes to your repository __BEFORE the deadline (September 28th 11:59 pm, Sunday)__. "
   ]
  },
  {
   "cell_type": "markdown",
   "metadata": {},
   "source": [
    "### Second Phase Submission "
   ]
  },
  {
   "cell_type": "markdown",
   "metadata": {},
   "source": [
    "**You can keep the answer for phase 1 for easier running and update the phase 2 on the same page.**\n",
    "\n",
    "1. First: Continue doing the **take home** exercises in the [DM2025-Lab1-Master](https://github.com/leoson-wu/DM2025-Lab1-Exercise/blob/main/DM2025-Lab1-Master.ipynb) for **phase 2, starting from Finding frequent patterns**. Use the same master(.ipynb) file. Answer from phase 1 will not be considered at this stage. You can answer in the master file. __This part is worth 10% of your grade.__\n",
    "\n",
    "\n",
    "2. Second: Continue from first phase and do the same process from the [DM2025-Lab1-Master](https://github.com/leoson-wu/DM2025-Lab1-Exercise/blob/main/DM2025-Lab1-Master.ipynb) on **the new dataset** for phase 2, starting from Finding frequent pattern. You can skip some exercises if you think some steps are not necessary. However main exercises should be completed. You don't need to explain all details as we did (some **minimal comments** explaining your code are useful though).  __This part is worth 15% of your grade.__\n",
    "    - Continue using this file to complete the homework from the second part. Make sure the code can be run from the beginning till the end and has all the needed output. Use the same new dataset as in phase 1.\n",
    "    \n",
    "    - You are allowed to use and modify the `helper` functions in the folder of the first lab session (notice they may need modification) or create your own.\n",
    "\n",
    "3. Third: please attempt the following tasks on **the new dataset**. __This part is worth 20% of your grade.__\n",
    "    - Use this file to answer.\n",
    "    - Generate **TF-IDF features** from the tokens of each text. This will generating a document matrix, however, the weights will be computed differently (using the TF-IDF value of each word per document as opposed to the word frequency).  Refer to this Scikit-learn [guide](http://scikit-learn.org/stable/modules/generated/sklearn.feature_extraction.text.TfidfVectorizer.html) .\n",
    "    - Implement a simple **Naive Bayes classifier** that automatically classifies the records into their categories. Use both the TF-IDF features and word frequency features to build two seperate classifiers. Note that for the TF-IDF features you might need to use other type of NB classifier different than the one in the Master Notebook. Comment on the differences and when using augmentation with feature pattern.  Refer to this [article](https://hub.packtpub.com/implementing-3-naive-bayes-classifiers-in-scikit-learn/).\n",
    "\n",
    "\n",
    "4. Fourth: In the lab, we applied each step really quickly just to illustrate how to work with your dataset. There are somethings that are not ideal or the most efficient/meaningful. Each dataset can be handled differently as well. What are those inefficent parts you noticed? How can you improve the Data preprocessing for these specific datasets? __This part is worth 10% of your grade.__\n",
    "\n",
    "\n",
    "5. Fifth: It's hard for us to follow if your code is messy, so please **tidy up your notebook** and **add minimal comments where needed**. __This part is worth 5% of your grade.__\n",
    "\n",
    "\n",
    "You can submit your homework following these guidelines: [DM2025-Lab1-announcement](https://github.com/leoson-wu/DM2025-Lab1-Announcement/blob/main/README.md). Make sure to commit and save your changes to your repository __BEFORE the deadline (October 19th 11:59 pm, Sunday)__. "
   ]
  },
  {
   "cell_type": "markdown",
   "metadata": {},
   "source": [
    "# Phase 1"
   ]
  },
  {
   "cell_type": "code",
   "execution_count": 80,
   "metadata": {},
   "outputs": [
    {
     "name": "stderr",
     "output_type": "stream",
     "text": [
      "[nltk_data] Downloading package punkt to /Users/zeroan/nltk_data...\n",
      "[nltk_data]   Package punkt is already up-to-date!\n"
     ]
    }
   ],
   "source": [
    "### Begin Assignment Here\n",
    "# test code for environment setup\n",
    "import pandas as pd\n",
    "import numpy as np\n",
    "import nltk\n",
    "nltk.download('punkt') # download the NLTK datasets\n",
    "from sklearn.feature_extraction.text import CountVectorizer\n",
    "import matplotlib.pyplot as plt\n",
    "import math\n",
    "# If you get \"ModuleNotFoundError: No module named 'PAMI'\"\n",
    "# run the following in a new Jupyter cell:\n",
    "# !pip3 install PAMI\n",
    "import PAMI\n",
    "import umap"
   ]
  },
  {
   "cell_type": "markdown",
   "metadata": {},
   "source": [
    "## 2. Data Preparation"
   ]
  },
  {
   "cell_type": "code",
   "execution_count": 81,
   "metadata": {},
   "outputs": [
    {
     "name": "stdout",
     "output_type": "stream",
     "text": [
      "['Retardation is on the menu boys! WSB is so back', 'Retail giant TARGET has now declined for 10 consecutive weeks, its longest losing streak in history']\n"
     ]
    }
   ],
   "source": [
    "data_path = \"./newdataset/Reddit-stock-sentiment.csv\"\n",
    "reddit_stock = pd.read_csv(data_path)\n",
    "\n",
    "# Let's take a look at some of the titles that are contained in our subset of the data\n",
    "print(reddit_stock.title[0:2].tolist())"
   ]
  },
  {
   "cell_type": "code",
   "execution_count": 82,
   "metadata": {},
   "outputs": [
    {
     "data": {
      "text/plain": [
       "847"
      ]
     },
     "execution_count": 82,
     "metadata": {},
     "output_type": "execute_result"
    }
   ],
   "source": [
    "len(reddit_stock)"
   ]
  },
  {
   "cell_type": "code",
   "execution_count": 83,
   "metadata": {},
   "outputs": [
    {
     "name": "stdout",
     "output_type": "stream",
     "text": [
      "['wallstreetbets' 'StockMarket' 'stockstobuytoday' 'stocks']\n"
     ]
    }
   ],
   "source": [
    "# 我發現在 Reddit-stock-sentiment.csv 中，subreddit 的欄位有四個不同的類別：'wallstreetbets', 'StockMarket', 'stockstobuytoday', 'stocks'\n",
    "print(reddit_stock[\"subreddit\"].unique())"
   ]
  },
  {
   "cell_type": "code",
   "execution_count": 84,
   "metadata": {},
   "outputs": [
    {
     "name": "stdout",
     "output_type": "stream",
     "text": [
      "data0:\n",
      "type: comment,\n",
      "datetime: 2025-04-11 17:29:56,\n",
      "post_id: mmli62w,\n",
      "subreddit: wallstreetbets,\n",
      "title: Retardation is on the menu boys! WSB is so back,\n",
      "author: StickyTip420,\n",
      "url: https://i.redd.it/0yq2ftren8ue1.jpeg,\n",
      "upvotes: 0,\n",
      "downvotes: nan,\n",
      "upvote_ratio: nan,\n",
      "text: Calls on retards,\n",
      "subjectivity: 1.0,\n",
      "polarity: -0.9,\n",
      "sentiment: -1.0,\n",
      "entities: [],\n",
      "label: -1.0,\n",
      "-----------------------\n",
      "data1:\n",
      "type: comment,\n",
      "datetime: 2025-04-12 1:12:19,\n",
      "post_id: mmnu7v9,\n",
      "subreddit: wallstreetbets,\n",
      "title: Retail giant TARGET has now declined for 10 consecutive weeks, its longest losing streak in history,\n",
      "author: Comfortable-Dog-8437,\n",
      "url: https://i.redd.it/7tl6puv9waue1.jpeg,\n",
      "upvotes: -15,\n",
      "downvotes: nan,\n",
      "upvote_ratio: nan,\n",
      "text: Stunt as in like why did they even make a big deal about starting it in the first place? No company should ever talk about politics ever.,\n",
      "subjectivity: 0.1777777777777777,\n",
      "polarity: 0.0833333333333333,\n",
      "sentiment: 1.0,\n",
      "entities: ['Stunt', 'company', 'deal', 'place'],\n",
      "label: 0.0,\n",
      "-----------------------\n"
     ]
    }
   ],
   "source": [
    "# 觀看 Reddit-stock-sentiment.csv 中，每一筆資料皆有的記錄資訊\n",
    "rows = reddit_stock.iloc[0:2]\n",
    "\n",
    "for index, row in rows.iterrows():\n",
    "    print(f\"data{index}:\")\n",
    "    for col, val in row.items():\n",
    "        print(f\"{col}: {val},\")\n",
    "    print(\"-----------------------\") "
   ]
  },
  {
   "cell_type": "markdown",
   "metadata": {},
   "source": [
    "## 3. Data Transformation\n",
    "### Adding Columns"
   ]
  },
  {
   "cell_type": "code",
   "execution_count": 85,
   "metadata": {},
   "outputs": [
    {
     "name": "stdout",
     "output_type": "stream",
     "text": [
      "    sentiment sentiment_name\n",
      "0        -1.0       negative\n",
      "1         1.0       positive\n",
      "2         0.0        neutral\n",
      "3         1.0       positive\n",
      "4         0.0        neutral\n",
      "5         1.0       positive\n",
      "6        -1.0       negative\n",
      "7         1.0       positive\n",
      "8         1.0       positive\n",
      "9         0.0        neutral\n",
      "10        0.0        neutral\n",
      "11        1.0       positive\n",
      "12        1.0       positive\n",
      "13        1.0       positive\n",
      "14        0.0        neutral\n",
      "15       -1.0       negative\n",
      "16        0.0        neutral\n",
      "17        1.0       positive\n",
      "18        0.0        neutral\n",
      "19        1.0       positive\n",
      "------------------------------------------------------------------------------\n",
      "sentiment_name\n",
      "neutral     331\n",
      "positive    319\n",
      "negative    197\n",
      "Name: count, dtype: int64\n"
     ]
    }
   ],
   "source": [
    "# 將 sentiment 的數值依據 ” 1.0 is positive, 0.0 is neutral and -1.0 is negative“ 轉換，新增一個 column 紀錄之\n",
    "sentiment_map = { -1.0: \"negative\", 0.0: \"neutral\", 1.0: \"positive\" }\n",
    "\n",
    "def format_sentiment_label(val):\n",
    "    return sentiment_map.get(val, \"unknown\")\n",
    "\n",
    "reddit_stock[\"sentiment_name\"] = reddit_stock.sentiment.apply(format_sentiment_label)\n",
    "\n",
    "print(reddit_stock[[\"sentiment\", \"sentiment_name\"]][:20])\n",
    "print(\"------------------------------------------------------------------------------\")\n",
    "print(reddit_stock.sentiment_name.value_counts())\n"
   ]
  },
  {
   "cell_type": "markdown",
   "metadata": {},
   "source": [
    "### Familiarizing with the Data"
   ]
  },
  {
   "cell_type": "code",
   "execution_count": 86,
   "metadata": {},
   "outputs": [
    {
     "data": {
      "text/html": [
       "<div>\n",
       "<style scoped>\n",
       "    .dataframe tbody tr th:only-of-type {\n",
       "        vertical-align: middle;\n",
       "    }\n",
       "\n",
       "    .dataframe tbody tr th {\n",
       "        vertical-align: top;\n",
       "    }\n",
       "\n",
       "    .dataframe thead th {\n",
       "        text-align: right;\n",
       "    }\n",
       "</style>\n",
       "<table border=\"1\" class=\"dataframe\">\n",
       "  <thead>\n",
       "    <tr style=\"text-align: right;\">\n",
       "      <th></th>\n",
       "      <th>title</th>\n",
       "      <th>author</th>\n",
       "    </tr>\n",
       "  </thead>\n",
       "  <tbody>\n",
       "    <tr>\n",
       "      <th>0</th>\n",
       "      <td>Retardation is on the menu boys! WSB is so back</td>\n",
       "      <td>StickyTip420</td>\n",
       "    </tr>\n",
       "    <tr>\n",
       "      <th>1</th>\n",
       "      <td>Retail giant TARGET has now declined for 10 co...</td>\n",
       "      <td>Comfortable-Dog-8437</td>\n",
       "    </tr>\n",
       "    <tr>\n",
       "      <th>2</th>\n",
       "      <td>How do you feel about a sitting president maki...</td>\n",
       "      <td>Btankersly66</td>\n",
       "    </tr>\n",
       "    <tr>\n",
       "      <th>3</th>\n",
       "      <td>Who knows more? $VMAR</td>\n",
       "      <td>emiljenfn</td>\n",
       "    </tr>\n",
       "    <tr>\n",
       "      <th>4</th>\n",
       "      <td>The Trump administration is begging Xi Jinping...</td>\n",
       "      <td>Just-Big6411</td>\n",
       "    </tr>\n",
       "    <tr>\n",
       "      <th>5</th>\n",
       "      <td>Weekend Discussion Thread for the Weekend of A...</td>\n",
       "      <td>PolarNimbus</td>\n",
       "    </tr>\n",
       "    <tr>\n",
       "      <th>6</th>\n",
       "      <td>Is the market in complete denial right now?</td>\n",
       "      <td>stoniey84</td>\n",
       "    </tr>\n",
       "    <tr>\n",
       "      <th>7</th>\n",
       "      <td>Retardation is on the menu boys! WSB is so back</td>\n",
       "      <td>OSRSkarma</td>\n",
       "    </tr>\n",
       "    <tr>\n",
       "      <th>8</th>\n",
       "      <td>It's fucking awful seeing the \"Silver\" misinfo...</td>\n",
       "      <td>Blondbox</td>\n",
       "    </tr>\n",
       "    <tr>\n",
       "      <th>9</th>\n",
       "      <td>Any cheap stocks under $10?</td>\n",
       "      <td>Zumuru</td>\n",
       "    </tr>\n",
       "  </tbody>\n",
       "</table>\n",
       "</div>"
      ],
      "text/plain": [
       "                                               title                author\n",
       "0    Retardation is on the menu boys! WSB is so back          StickyTip420\n",
       "1  Retail giant TARGET has now declined for 10 co...  Comfortable-Dog-8437\n",
       "2  How do you feel about a sitting president maki...          Btankersly66\n",
       "3                              Who knows more? $VMAR             emiljenfn\n",
       "4  The Trump administration is begging Xi Jinping...          Just-Big6411\n",
       "5  Weekend Discussion Thread for the Weekend of A...           PolarNimbus\n",
       "6        Is the market in complete denial right now?             stoniey84\n",
       "7    Retardation is on the menu boys! WSB is so back             OSRSkarma\n",
       "8  It's fucking awful seeing the \"Silver\" misinfo...              Blondbox\n",
       "9                        Any cheap stocks under $10?                Zumuru"
      ]
     },
     "execution_count": 86,
     "metadata": {},
     "output_type": "execute_result"
    }
   ],
   "source": [
    "reddit_stock[:10][[\"title\",\"author\"]]"
   ]
  },
  {
   "cell_type": "code",
   "execution_count": 87,
   "metadata": {},
   "outputs": [
    {
     "data": {
      "text/html": [
       "<div>\n",
       "<style scoped>\n",
       "    .dataframe tbody tr th:only-of-type {\n",
       "        vertical-align: middle;\n",
       "    }\n",
       "\n",
       "    .dataframe tbody tr th {\n",
       "        vertical-align: top;\n",
       "    }\n",
       "\n",
       "    .dataframe thead th {\n",
       "        text-align: right;\n",
       "    }\n",
       "</style>\n",
       "<table border=\"1\" class=\"dataframe\">\n",
       "  <thead>\n",
       "    <tr style=\"text-align: right;\">\n",
       "      <th></th>\n",
       "      <th>type</th>\n",
       "      <th>datetime</th>\n",
       "      <th>post_id</th>\n",
       "      <th>subreddit</th>\n",
       "      <th>title</th>\n",
       "      <th>author</th>\n",
       "      <th>url</th>\n",
       "      <th>upvotes</th>\n",
       "      <th>downvotes</th>\n",
       "      <th>upvote_ratio</th>\n",
       "      <th>text</th>\n",
       "      <th>subjectivity</th>\n",
       "      <th>polarity</th>\n",
       "      <th>sentiment</th>\n",
       "      <th>entities</th>\n",
       "      <th>label</th>\n",
       "      <th>sentiment_name</th>\n",
       "    </tr>\n",
       "  </thead>\n",
       "  <tbody>\n",
       "    <tr>\n",
       "      <th>837</th>\n",
       "      <td>comment</td>\n",
       "      <td>2021-02-01 17:13:52</td>\n",
       "      <td>glmdsae</td>\n",
       "      <td>stocks</td>\n",
       "      <td>It's fucking awful seeing the \"Silver\" misinfo...</td>\n",
       "      <td>jackandjill22</td>\n",
       "      <td>https://www.reddit.com/r/stocks/comments/la34b...</td>\n",
       "      <td>4</td>\n",
       "      <td>NaN</td>\n",
       "      <td>NaN</td>\n",
       "      <td>Finance media lying \\n\\n*Surprise*</td>\n",
       "      <td>0.0</td>\n",
       "      <td>0.0</td>\n",
       "      <td>0.0</td>\n",
       "      <td>['Finance', 'Surprise', '*']</td>\n",
       "      <td>-1.0</td>\n",
       "      <td>neutral</td>\n",
       "    </tr>\n",
       "    <tr>\n",
       "      <th>838</th>\n",
       "      <td>comment</td>\n",
       "      <td>2021-04-26 20:17:28</td>\n",
       "      <td>gvyyjqb</td>\n",
       "      <td>stockstobuytoday</td>\n",
       "      <td>Stocks with high Short Float. $AAL, $CLVS, $SD...</td>\n",
       "      <td>Chief-Default</td>\n",
       "      <td>https://www.reddit.com/r/stockstobuytoday/comm...</td>\n",
       "      <td>1</td>\n",
       "      <td>NaN</td>\n",
       "      <td>NaN</td>\n",
       "      <td>I am all in</td>\n",
       "      <td>0.0</td>\n",
       "      <td>0.0</td>\n",
       "      <td>0.0</td>\n",
       "      <td>[]</td>\n",
       "      <td>0.0</td>\n",
       "      <td>neutral</td>\n",
       "    </tr>\n",
       "    <tr>\n",
       "      <th>839</th>\n",
       "      <td>comment</td>\n",
       "      <td>2025-04-11 16:02:56</td>\n",
       "      <td>mml0hpk</td>\n",
       "      <td>StockMarket</td>\n",
       "      <td>The Trump administration is begging Xi Jinping...</td>\n",
       "      <td>Mr_Dorfmeister</td>\n",
       "      <td>https://edition.cnn.com/2025/04/10/politics/tr...</td>\n",
       "      <td>1</td>\n",
       "      <td>NaN</td>\n",
       "      <td>NaN</td>\n",
       "      <td>The Art of the Deal…</td>\n",
       "      <td>0.0</td>\n",
       "      <td>0.0</td>\n",
       "      <td>0.0</td>\n",
       "      <td>['Art', 'Deal…']</td>\n",
       "      <td>0.0</td>\n",
       "      <td>neutral</td>\n",
       "    </tr>\n",
       "    <tr>\n",
       "      <th>840</th>\n",
       "      <td>comment</td>\n",
       "      <td>2025-04-11 9:32:08</td>\n",
       "      <td>mmjac41</td>\n",
       "      <td>StockMarket</td>\n",
       "      <td>🚨China responds to Trump’s 145% tariff with an...</td>\n",
       "      <td>ijuscrushalot</td>\n",
       "      <td>https://i.redd.it/2f7y4h6226ue1.jpeg</td>\n",
       "      <td>2</td>\n",
       "      <td>NaN</td>\n",
       "      <td>NaN</td>\n",
       "      <td>Lol fr</td>\n",
       "      <td>0.7</td>\n",
       "      <td>0.8</td>\n",
       "      <td>1.0</td>\n",
       "      <td>['Lol', 'fr']</td>\n",
       "      <td>0.0</td>\n",
       "      <td>positive</td>\n",
       "    </tr>\n",
       "    <tr>\n",
       "      <th>841</th>\n",
       "      <td>comment</td>\n",
       "      <td>2025-04-11 16:09:15</td>\n",
       "      <td>mml1qqd</td>\n",
       "      <td>StockMarket</td>\n",
       "      <td>The Trump administration is begging Xi Jinping...</td>\n",
       "      <td>le_mihai</td>\n",
       "      <td>https://edition.cnn.com/2025/04/10/politics/tr...</td>\n",
       "      <td>1</td>\n",
       "      <td>NaN</td>\n",
       "      <td>NaN</td>\n",
       "      <td>So countries “begging to stop the tariffs” and...</td>\n",
       "      <td>0.0</td>\n",
       "      <td>0.0</td>\n",
       "      <td>0.0</td>\n",
       "      <td>['”', '“', 'anything', 'deal']</td>\n",
       "      <td>1.0</td>\n",
       "      <td>neutral</td>\n",
       "    </tr>\n",
       "    <tr>\n",
       "      <th>842</th>\n",
       "      <td>comment</td>\n",
       "      <td>2021-06-30 4:06:06</td>\n",
       "      <td>h3iv6pq</td>\n",
       "      <td>stockstobuytoday</td>\n",
       "      <td>$MRIN Marin Software killed it today. Hope som...</td>\n",
       "      <td>Ordinary-Office9180</td>\n",
       "      <td>https://www.reddit.com/r/stockstobuytoday/comm...</td>\n",
       "      <td>1</td>\n",
       "      <td>NaN</td>\n",
       "      <td>NaN</td>\n",
       "      <td>Invest now it is going to shoot up tomorrow</td>\n",
       "      <td>0.0</td>\n",
       "      <td>0.0</td>\n",
       "      <td>0.0</td>\n",
       "      <td>['tomorrow']</td>\n",
       "      <td>1.0</td>\n",
       "      <td>neutral</td>\n",
       "    </tr>\n",
       "    <tr>\n",
       "      <th>843</th>\n",
       "      <td>comment</td>\n",
       "      <td>2025-04-11 5:01:24</td>\n",
       "      <td>mmijiuz</td>\n",
       "      <td>StockMarket</td>\n",
       "      <td>$ U.S. dollar value (crashing)</td>\n",
       "      <td>lulububudu</td>\n",
       "      <td>https://i.redd.it/atvlo83gk4ue1.jpeg</td>\n",
       "      <td>2</td>\n",
       "      <td>NaN</td>\n",
       "      <td>NaN</td>\n",
       "      <td>Where can I read this?</td>\n",
       "      <td>0.0</td>\n",
       "      <td>0.0</td>\n",
       "      <td>0.0</td>\n",
       "      <td>[]</td>\n",
       "      <td>0.0</td>\n",
       "      <td>neutral</td>\n",
       "    </tr>\n",
       "    <tr>\n",
       "      <th>844</th>\n",
       "      <td>post</td>\n",
       "      <td>2025-03-24 12:30:39</td>\n",
       "      <td>1jipi4v</td>\n",
       "      <td>stockstobuytoday</td>\n",
       "      <td>Analyst Recommendations</td>\n",
       "      <td>saasfin</td>\n",
       "      <td>https://www.reddit.com/r/stockstobuytoday/comm...</td>\n",
       "      <td>1</td>\n",
       "      <td>0.0</td>\n",
       "      <td>1.0</td>\n",
       "      <td>Upgrades, Downgrades\\n\\n [Stock Analyst Recomm...</td>\n",
       "      <td>0.0</td>\n",
       "      <td>0.0</td>\n",
       "      <td>0.0</td>\n",
       "      <td>['Analyst', 'Nasdaq', 'Stock', 'Upgrades', 'Do...</td>\n",
       "      <td>0.0</td>\n",
       "      <td>neutral</td>\n",
       "    </tr>\n",
       "    <tr>\n",
       "      <th>845</th>\n",
       "      <td>comment</td>\n",
       "      <td>2025-04-11 20:13:26</td>\n",
       "      <td>mmmely7</td>\n",
       "      <td>wallstreetbets</td>\n",
       "      <td>Weekend Discussion Thread for the Weekend of A...</td>\n",
       "      <td>yes_ur_wrong</td>\n",
       "      <td>https://www.reddit.com/r/wallstreetbets/commen...</td>\n",
       "      <td>10</td>\n",
       "      <td>NaN</td>\n",
       "      <td>NaN</td>\n",
       "      <td>i sold my puts so i expect cheeto to declare w...</td>\n",
       "      <td>0.0</td>\n",
       "      <td>0.0</td>\n",
       "      <td>0.0</td>\n",
       "      <td>['war', 'denmark', 'cheeto', 'i']</td>\n",
       "      <td>-1.0</td>\n",
       "      <td>neutral</td>\n",
       "    </tr>\n",
       "    <tr>\n",
       "      <th>846</th>\n",
       "      <td>comment</td>\n",
       "      <td>2025-04-12 3:09:06</td>\n",
       "      <td>mmobyz1</td>\n",
       "      <td>wallstreetbets</td>\n",
       "      <td>Someone post the hotline please.</td>\n",
       "      <td>I_am_Nerman</td>\n",
       "      <td>https://i.redd.it/tcfuu97p7bue1.jpeg</td>\n",
       "      <td>1</td>\n",
       "      <td>NaN</td>\n",
       "      <td>NaN</td>\n",
       "      <td>![img](emote|t5_2th52|31224)</td>\n",
       "      <td>0.0</td>\n",
       "      <td>0.0</td>\n",
       "      <td>0.0</td>\n",
       "      <td>['img', ']', '[', 'emote|t5_2th52|31224']</td>\n",
       "      <td>0.0</td>\n",
       "      <td>neutral</td>\n",
       "    </tr>\n",
       "  </tbody>\n",
       "</table>\n",
       "</div>"
      ],
      "text/plain": [
       "        type             datetime  post_id         subreddit  \\\n",
       "837  comment  2021-02-01 17:13:52  glmdsae            stocks   \n",
       "838  comment  2021-04-26 20:17:28  gvyyjqb  stockstobuytoday   \n",
       "839  comment  2025-04-11 16:02:56  mml0hpk       StockMarket   \n",
       "840  comment   2025-04-11 9:32:08  mmjac41       StockMarket   \n",
       "841  comment  2025-04-11 16:09:15  mml1qqd       StockMarket   \n",
       "842  comment   2021-06-30 4:06:06  h3iv6pq  stockstobuytoday   \n",
       "843  comment   2025-04-11 5:01:24  mmijiuz       StockMarket   \n",
       "844     post  2025-03-24 12:30:39  1jipi4v  stockstobuytoday   \n",
       "845  comment  2025-04-11 20:13:26  mmmely7    wallstreetbets   \n",
       "846  comment   2025-04-12 3:09:06  mmobyz1    wallstreetbets   \n",
       "\n",
       "                                                 title               author  \\\n",
       "837  It's fucking awful seeing the \"Silver\" misinfo...        jackandjill22   \n",
       "838  Stocks with high Short Float. $AAL, $CLVS, $SD...        Chief-Default   \n",
       "839  The Trump administration is begging Xi Jinping...       Mr_Dorfmeister   \n",
       "840  🚨China responds to Trump’s 145% tariff with an...        ijuscrushalot   \n",
       "841  The Trump administration is begging Xi Jinping...             le_mihai   \n",
       "842  $MRIN Marin Software killed it today. Hope som...  Ordinary-Office9180   \n",
       "843                     $ U.S. dollar value (crashing)           lulububudu   \n",
       "844                            Analyst Recommendations              saasfin   \n",
       "845  Weekend Discussion Thread for the Weekend of A...         yes_ur_wrong   \n",
       "846                   Someone post the hotline please.          I_am_Nerman   \n",
       "\n",
       "                                                   url  upvotes  downvotes  \\\n",
       "837  https://www.reddit.com/r/stocks/comments/la34b...        4        NaN   \n",
       "838  https://www.reddit.com/r/stockstobuytoday/comm...        1        NaN   \n",
       "839  https://edition.cnn.com/2025/04/10/politics/tr...        1        NaN   \n",
       "840               https://i.redd.it/2f7y4h6226ue1.jpeg        2        NaN   \n",
       "841  https://edition.cnn.com/2025/04/10/politics/tr...        1        NaN   \n",
       "842  https://www.reddit.com/r/stockstobuytoday/comm...        1        NaN   \n",
       "843               https://i.redd.it/atvlo83gk4ue1.jpeg        2        NaN   \n",
       "844  https://www.reddit.com/r/stockstobuytoday/comm...        1        0.0   \n",
       "845  https://www.reddit.com/r/wallstreetbets/commen...       10        NaN   \n",
       "846               https://i.redd.it/tcfuu97p7bue1.jpeg        1        NaN   \n",
       "\n",
       "     upvote_ratio                                               text  \\\n",
       "837           NaN                 Finance media lying \\n\\n*Surprise*   \n",
       "838           NaN                                        I am all in   \n",
       "839           NaN                               The Art of the Deal…   \n",
       "840           NaN                                             Lol fr   \n",
       "841           NaN  So countries “begging to stop the tariffs” and...   \n",
       "842           NaN        Invest now it is going to shoot up tomorrow   \n",
       "843           NaN                             Where can I read this?   \n",
       "844           1.0  Upgrades, Downgrades\\n\\n [Stock Analyst Recomm...   \n",
       "845           NaN  i sold my puts so i expect cheeto to declare w...   \n",
       "846           NaN                       ![img](emote|t5_2th52|31224)   \n",
       "\n",
       "     subjectivity  polarity  sentiment  \\\n",
       "837           0.0       0.0        0.0   \n",
       "838           0.0       0.0        0.0   \n",
       "839           0.0       0.0        0.0   \n",
       "840           0.7       0.8        1.0   \n",
       "841           0.0       0.0        0.0   \n",
       "842           0.0       0.0        0.0   \n",
       "843           0.0       0.0        0.0   \n",
       "844           0.0       0.0        0.0   \n",
       "845           0.0       0.0        0.0   \n",
       "846           0.0       0.0        0.0   \n",
       "\n",
       "                                              entities  label sentiment_name  \n",
       "837                       ['Finance', 'Surprise', '*']   -1.0        neutral  \n",
       "838                                                 []    0.0        neutral  \n",
       "839                                   ['Art', 'Deal…']    0.0        neutral  \n",
       "840                                      ['Lol', 'fr']    0.0       positive  \n",
       "841                     ['”', '“', 'anything', 'deal']    1.0        neutral  \n",
       "842                                       ['tomorrow']    1.0        neutral  \n",
       "843                                                 []    0.0        neutral  \n",
       "844  ['Analyst', 'Nasdaq', 'Stock', 'Upgrades', 'Do...    0.0        neutral  \n",
       "845                  ['war', 'denmark', 'cheeto', 'i']   -1.0        neutral  \n",
       "846          ['img', ']', '[', 'emote|t5_2th52|31224']    0.0        neutral  "
      ]
     },
     "execution_count": 87,
     "metadata": {},
     "output_type": "execute_result"
    }
   ],
   "source": [
    "reddit_stock[-10:]"
   ]
  },
  {
   "cell_type": "code",
   "execution_count": 88,
   "metadata": {},
   "outputs": [
    {
     "name": "stdout",
     "output_type": "stream",
     "text": [
      "731\n",
      "['StickyTip420' 'Comfortable-Dog-8437' 'Btankersly66' 'emiljenfn'\n",
      " 'Just-Big6411' 'PolarNimbus' 'stoniey84' 'OSRSkarma' 'Blondbox' 'Zumuru'\n",
      " 'MitchCurry' 'RememberTooSmile' 'JBallMan23' 'Miramarmechanic'\n",
      " 'Odd-Temperature-791' 'nerokaeclone' 'hotgarbagevideo'\n",
      " 'BrotherlyShove791' 'freewilly7315' 'Vanman04' 'Golden__Eagle'\n",
      " 'Either_Breadfruit_90' 'tiredsultan' 'No_Mercy_4_Potatoes'\n",
      " 'applecokecake' 'Rosebunse' 'MTPWAZ' 'Silly_Accountant_687'\n",
      " 'PlannedObsolescence-' 'Ok_Talk_7837' 'Kemilio' '[deleted]'\n",
      " 'Kaffe-Mumriken' 'cupcake0calypse' 'SmithRune735' 'Interesting-Loss34'\n",
      " 'kl7aw220' 'BippityBoppitty69' 'Skeleton-ear-face' 'Lost-Panda-68'\n",
      " 'InstructionNo4546' 'Limp-Project5733' 'Too_theXtreme' 'rockytrh'\n",
      " 'HarleyDog67' 'eulynn34' 'Elegant-Berry5192' 'saasfin' 'CEOofBeanz'\n",
      " 'MayorOfDanktown' 'm1lkm1lk' 'likeitis121' 'cmm239' 'Queasy-Length4314'\n",
      " 'J3ster14' 'blowgrass-smokeass' 'questron64' 'spoony20'\n",
      " 'Certain-Statement-95' 'FumblersUnited' 'AutoModerator' 'SpakenBacon'\n",
      " 'OmegaKitty1' 'antigop2020' 'Antique-Athlete-8838' 'Acceptable_Bed_6033'\n",
      " 'BlightShade-Wanderer' 'zissouo' 'Alarmed_Champion_913' 'Assaulted_Fish'\n",
      " 'gravitypimp92' 'BugDisastrous5135' 'sithyoda' 'HeavySink3303'\n",
      " 'AdQuick8612' 'ProofByVerbosity' 'gayfrogs4alexjones'\n",
      " 'ManyCommunications' 'user365735' 'Desperate-Awareness4' 'juniorspank'\n",
      " 'bottomline77' 'cuoyi77372222' 'Competitive-Meet-511' 'BobUecker1'\n",
      " 'squidwardTalks' 'BoredBSEE' 'Longjumping-Fact-582' 'dancness'\n",
      " 'AKACharlieRock' 'macrolidesrule' 'Rosie3435' 'drama-guy' 'DjScenester'\n",
      " 'bullrfuk' 'Darkstar197' 'Zx40' 'Pernicious-Peach' 'RaptorPrime'\n",
      " 'Bartallica' 'SupaRiceNinja' 'TimoGloc' 'nogovernmentguy'\n",
      " 'Optimal_Log_7115' 'OkRideMeThenBB' 'Appropriate-Dog6645' 'RockinMadRiot'\n",
      " 'Usuallystraight69420' 'badasimo' 'Itchy_Pudding_9940' 'mealucra'\n",
      " 'Interesting-Ease8882' 'New-Load9905' 'ZT047' 'FinnrDrake' 'issapunk'\n",
      " 'bro-v-wade' 'Shrimpdalord' 'ultrauranium' 'Anyawnomous'\n",
      " 'Apprehensive-King270' 'geekfreak42' 'SouthernSock' 'm1mcd1970'\n",
      " 'anchorsawaypeeko' '1ogic2' 'Jimenezmf777' 'zooka19' 'punica-1337'\n",
      " 'cimulate' 'DanielzeFourth' 'Forward-Problem4727' 'ivegotwonderfulnews'\n",
      " 'Umeume3' 'DiarrheaCreamPi' 'Straight_Turnip7056' 'ImpressiveCat2377'\n",
      " 'Ultimovacs4ever' '-Lysergian' 'gamjatang111' 'Grouchy-Industry6770'\n",
      " 'HackySmacky22' 'BrisPoker314' 'EggplantAlpinism' 'NoPeak2481'\n",
      " 'Maleficent298' 'Squibbles01' 'machyume' 'Idontlikeredditorss'\n",
      " 'Superb_Nebula8800' 'sellopsia' 'Lopsided-Celery8624' 'Sguru1'\n",
      " 'SingularityCentral' 'mazzaschi' 'digamymagadisg88' 'DiscDownDummy'\n",
      " 'CanaryUmbrella' 'Gitrdone101' 'HiTechSoldierplus' 'ruminkb'\n",
      " 'boringfantasy' 'Electric_seal2' 'baltbcn90' 'Harvooost' 'Beethoven81'\n",
      " 'NonsensicalWorries' 'Left_Boat_3632' 'AsstacularSpiderman' 'ma3918'\n",
      " 'Coyotewongo' 'CbearMN' 'pineapplekiwipen' 'AdiosSailing' 'Akiraooo'\n",
      " 'Material-Gift6823' 'BlackAdder7' 'jpm0719' 'VisibleAlarm1312'\n",
      " 'Objective_Pause5988' 'coochellamai' 'sarhoshamiral' 'SamifromLegoland'\n",
      " 'JamesPKing28' 'FreelancerMO' 'stockmarkettrader' 'RealFlarn'\n",
      " 'homework8976' 'Worth_Swim_3128' 'InvisibleEar' 'Mr_Pricklepants'\n",
      " 'TableSignificant341' 'LoveUrLifeNow' 'Civil-Translator-196'\n",
      " 'adetailgeek' 'TheMofunkinWolf' '2521harris' 'Lets_Kick_Some_Ice'\n",
      " 'muffins95' 'FinalBossKiwi' 'stewartm0205' 'zwd_2011'\n",
      " 'LastPauperStanding' 'abbeynottooshabby' 'VisualMod' 'zeropoint71'\n",
      " 'ImNoAlbertFeinstein' 'naeads' 'Loweffort2025' 'enlightenedlonglook'\n",
      " 'eagermoron' 'Hot-Ticket9440' 'Coolbanh' 'autfaciam' 'dpdxguy'\n",
      " 'xvvxvvxvvxvvx' 'mojomoreddit' 'inigoche' 'CheetahPatient6926'\n",
      " 'Kpachecodark' 'Mojojojo3030' 'blumpkinspatch' 'N4UPD' 'Slight-Ad-6553'\n",
      " 'Bright-Ad-1329' 'Empty-Presentation68' 'BatterseaPS' 'rawrimmaduk'\n",
      " 'Findest' 'dumberthenhelooks' 'ScalpelLin' 'MiniTab' 'KaitRaven'\n",
      " 'PrinsHamlet' 'gary_oldman_sachs' 'supmookie' 'neuroticism_loading'\n",
      " 'shroomigator' 'Dogecaptain420' 'nescko' 'OPINION_IS_REGARDED'\n",
      " 'SilentBeetle' 'eulersidentification' 'FblthpLives' 'notacornflakegirl7'\n",
      " 'Sufurad247' 'RudeOwl1816' 'caterpillarprudent91' 'ChristianLS' 'DVoteMe'\n",
      " 'Jabiraca1051' 'CylonSandhill' 'jonoottu' 'Narradisall'\n",
      " 'A_Concerned_Viking' 'Hot_Frosting_7101' 'Alexwonder999' 'Ineedgold'\n",
      " 'FarrisAT' 'RoninKnight17' 'LessDeliciousPoop' 'wutang' 'corrieoh'\n",
      " 'transient_eternity' 'Beautiful_Anybody_13' 'Helpful-Wolverine555'\n",
      " 'hypocrisy-identifier' 'BoosterRead78' 'Distinct-Quantity-35'\n",
      " 'Suitable_Carob6906' 'club_trap' 'ptwonline' 'Secret_Cauliflower92'\n",
      " 'Jimlad73' 'WeTheNorth1234' 'Bouaibin' 'Traa12' 'LanceX2' 'soil_nerd'\n",
      " 'Spsurgeon' '937Asylum81' 'dima74' 'TuTuAtlas' 'LatinHoser'\n",
      " 'Appropriate-Note-776' 'inuvash255' 'FourteenthCylon' 'Big_Condition477'\n",
      " 'Dependent-Hurry9808' 'BenderIsNotGreat' 'RichardUkinsuch' 'Pakkittup'\n",
      " 'Spire_Citron' 'Sea-Twist-7363' 'mislippencludderz39' 'dirtyolcanada'\n",
      " 'KatBoss01' 'tclemon' 'spinjamn' 'fencepencil' 'AlgorithmSynesthesia'\n",
      " 'DaimonHans' 'dansdansy' 'AlpsSad1364' 'MutaliskGluon' 'iPlayedHockeInHS'\n",
      " 'giggy13' 'peatoast' 'Th3Fl0' 'Goatconnoiseur' 'PsychologicalRub5905'\n",
      " 'Sheguey-vara' 'Jmatts' 'numbrate' 'Rfalcon13' 'Dare-Ethan817'\n",
      " 'johndsmits' 'Brokenandburnt' 'AxemanFromMA' 'mrsebsin' 'IGuessBruv'\n",
      " 'SaveTheAles' 'WentzingInPain' 'TheLimeyLemmon' 'Ok-Scallion-9423'\n",
      " 'No_Bit_3897' 'Recent-River-6978' 'DeepRichmondNatty' 'Vosspatrick'\n",
      " 'BunbunTheJackalope' 'zephyrs85' 'jrex035' 'Quirky-Pie-109'\n",
      " '7fingersDeep' 'Xerio_the_Herio' 'Zociety_' 'Practical-Area49'\n",
      " 'No-Butterscotch-7577' 'radium_eye' 'Wrong_Confection1090'\n",
      " 'YinzyMcYinzer' 'DarkLight34' 'colinlaughery' 'CarRamRob'\n",
      " 'WuPaulTangClan' 'ProfessorDerp22' 'Candlelight_Fant4sia'\n",
      " 'My-Cousin-Bobby' '21plankton' 'MoveEither1986' 'DFu4ever'\n",
      " 'JustMe1235711' 'arb1698' 'TargetDreams' 'Inspector330' 'gonzo0815'\n",
      " 'akneebriateit' 'DangerousBrat' 'vassar888' 'mm_newsletter'\n",
      " 'okaybye123345' 'Hairy_Muff305' 'stephen6686' 'Charming_Emu_4660'\n",
      " 'moonlets_' 'ClassroomStriking346' 'SoHgitfiddle' 'saysjuan'\n",
      " 'PM_artsy_fartsy_nude' 'ArtMachen' 'Canucklehead_Esq' 'Snowedin-69'\n",
      " 'PotentialAnt9670' '--Shake--' 'chobro17' 'whocares4506'\n",
      " 'nevergonnastawp' 'stickman07738' 'Mariast0ckQueen' 'flint-hills-sooner'\n",
      " 'maxplanar' 'No_Succotash890' 'Evening-Ad-2820' 'FearLaChancla'\n",
      " 'AtomicPhantomBlack' 'GreenAldiers' 'Huge-Group8652'\n",
      " 'Diligent-Emphasis-55' 'sveltepants' 'BetweenCoffeeNSleep'\n",
      " 'sumthymelater' 'average-Astronaut' 'Natural_Born_Leader'\n",
      " 'Consistent_Koala671' 'just_here_to_lurkk' 'ArcticSilver2k'\n",
      " 'DRIP-T2O-HARD' 'Happy_Discussion_536' 'Thatshot_hilton' 'Tax__Player'\n",
      " 'Financial-Device-988' 'coach_H35' 'IamNotaMonkeyRobot' 'xampf2'\n",
      " 'BlahBlahBlackCheap' 'Gabbygb90930' '21_Golden_Guns' 'KahlVados'\n",
      " 'hobbitfeet22' 'ravisv52' 'bplturner' 'averysmallbeing' 'ariososweet'\n",
      " 'Big-Meat9351' 'Ronin3993' 'Fantastic_Team_6' 'Ok-Elk-6087'\n",
      " 'heterocommunist' 'Sckathian' 'Gummyrabbit' 'Narrow-Ad6797'\n",
      " 'coveredcallnomad100' 'njsh20' 'tenor_tymir' 'Keviticas'\n",
      " 'Money_Jelly5424' 'PlayfulMuffin2015' 'AnonymusFarmer'\n",
      " 'Responsible-Sundae25' 'Retrobot1234567' 'mtol115' 'Spinoza42'\n",
      " 'GoogleKushforLunch' 'Wonderful_Honey_1726' 'stepjenks' 'Nativefly'\n",
      " 'Fidler_2K' 'jjenkybee' 'Bloodsucker_' 'ocktick' 'ConfusionOpen2262'\n",
      " 'LambDaddyDev' 'gamesquid' 'BrilliantDishevelled' 'TheHighClasher'\n",
      " 'ChairmanCorgi_' 'SecondSnek' 'Heavy_Brilliant104' 'Bright-Self-493'\n",
      " 'CelticSith' 'RampantPrototyping' 'Total-Return42' 'JacketStraight2582'\n",
      " 'Savings-Fortune-8371' 'Ok_Employment_192' 'Steric-Repulsion'\n",
      " 'No_Presentation1242' 'redisok' 'Sellswordinthegrove' 'DimeloFaze'\n",
      " 'Please_Help_lol62' 'MidnightAlchemist' 'futurespacecadet' 'martiben12'\n",
      " 'LowSlipLowz' 'Primsun' 'Floor-Imaginary' 'apurimac777'\n",
      " 'Valuable-Cod-4308' 'Some_Development3447' 'brbcryinginside' 'EatsRats'\n",
      " 'zakabog' 'fire_throwaway5' 'Intestinal-Bookworms' 'AltruisticDatabase93'\n",
      " 'redelectro7' 'Westykins' 'Petrichordates' 'katelynyounglv'\n",
      " 'WIRE-BRUSH-4-MY-NUTZ' 'TraderMoe1224' 'friendly_gentleman' 'lallen'\n",
      " 'Ok_Cap9240' 'InterestingFocus8125' '_Hello_Hi_Hey_' 'TrashPanda_924'\n",
      " 'ThickAnybody' 'stemi67' 'vim_deezel' 'Signal_Tomorrow_2138' 'QuietKanuk'\n",
      " 'ApoplecticAndroid' 'glenmichael77' 'KTRyan30' 'omrimayo'\n",
      " 'reddit_user45765' 'Sea-Way3636' 'Stock-Blackberry4652' 'asianmandan'\n",
      " 'oldmansamuelson' 'BrodyFlint' 'EmotionalBag777' 'trollhaulla'\n",
      " 'capalot455' 'FuhrerGirthWorm' 'HereInTheCut' 'redditissocoolyoyo'\n",
      " 'The_Wiz411' 'Top-Cup-8198' 'jsho574' 'domomymomo' 'Rookwood' 'ivan510'\n",
      " 'Individual-Habit-438' 'google_fu_is_whatIdo' 'ShogunMyrnn'\n",
      " 'AnonyomousKraken' 'Academic_District224' 'TheSpectacularOracle'\n",
      " 'CataTrouble' 'islanda_1973' 'UttermostAcreage' 'grhotz'\n",
      " 'CryptoGeologist' 'LazyKidd420' 'JohnDorian0506' 'Kentaiga' 'Both_Ad_288'\n",
      " 'everydaynoodles' 'KartFacedThaoDien' 'momentimori' 'littlewingedkuri'\n",
      " 'BituminousBitumin' 'Aranthos-Faroth' 'Blattgeist' 'Numerous_Ice_4556'\n",
      " 'Jayleen-Olsen06' 'i-can-sleep-for-days' 'wheres-my-take' 'HGjjwI0h46b42'\n",
      " 'WolfetoneRebel' 'Same-Towel-8389' 'Zepcleanerfan' 'FortunateInsanity'\n",
      " 'Ebonvvings' 'NumberSudden9722' 'Jhngo' 'Elegant_Hurry2258'\n",
      " 'AcanthisittaLive6135' 'twittidoo' 'Usual_Retard_6859' 'Windturnscold'\n",
      " 'suckercuck' 'TheUsualNoWorky' 'Brinkken' 'eberry707' 'paq12x' 'baydew'\n",
      " 'YouKnowMeDansTwelve' 'ITProGuidance' 'per_iod' 'Locutus-1' 'Penny_Gold'\n",
      " 'BarryMihupinner' 'BroFee' 'sable_twilight' 'hertzog24' 'J3t5et'\n",
      " 'Senior_Green_3630' '31andnotdone' 'YogurtclosetVivid869'\n",
      " 'Fabulous_Ad_8621' 'freddychuckles' 'yeltneb77' 'hamatehllama'\n",
      " 'FencingSquirrelz' 'AbbacusAbagail' 'Mrtoyhead' 'Roddykins1'\n",
      " 'Violet_Apathy' 'bladezdivide' 'just_chilling_too' 'mightylordredbeard'\n",
      " 'Ffigy' 'Federal-Hearing-7270' 'Aquarian8491' 'Quiet_Reputation_128'\n",
      " 'Native_SC' 'killver' 'save-aiur' 'Fullm3taluk' 'Jimeriano'\n",
      " 'Ok_Competition1524' 'Dangerous_Bar6733' 'TheTench' 'everybodydumb'\n",
      " 'young_fitzgerald' 'GetTheGreenies' 'Askew_2016' 'arutkay26' 'thanksbees'\n",
      " 'mrchazard99' 'coconut_man' 'cookiesnooper' 'Boymoans420'\n",
      " 'Peripatetictyl' 'BusinessReplyMail1' 'CuttyAllgood' 'Razgriz6'\n",
      " 'VariationConstant675' 'Winter_Ad6784' 'awsengineer1' '7hurricanes'\n",
      " 'Flashy-Birthday' 'RobbieKangaroo' 'sunshineandrainbow62' 'squestions10'\n",
      " 'MrRikleman' 'getapuss' 'thenuttyhazlenut' 'HomingSunlight'\n",
      " 'IWasRightOnce' 'HistoricalComeBack' 'ClaudiaK-P' 'Apprehensive-Draw-10'\n",
      " 'HonestWingsUP' 'rockguy541' 'onamixt' 'KingRigr' 'Areyoubunkerray'\n",
      " 'calgarywalker' 'JSON_T_Bourne' 'SmallCapsOnly' 'Short-Philosophy-105'\n",
      " 'PoopocalypseNow_' 'Illustrious_Hotel527' 'Psychic_Trader'\n",
      " 'BarbequedYeti' 'ConsiderationKey1658' 'ponyflip' 'Jpup199' 'iShadePaint'\n",
      " 'throwaway1812342' 'Matt_Murphy_' 'elgrandorado' 'Happy_Service1716'\n",
      " 'Cadiz1664' 'MattyIce1220' 'Secret_Cabinet2348' 'MonkeyHustler943'\n",
      " 'HighTechPipefitter' 'lonewolfenstein2' 'ChirrBirry' 'freshoilandstone'\n",
      " 'ywalty' 'WokeMimo' 'PankyFlamingos' 'HarrysHairynuts'\n",
      " 'AlternativePure2125' 'ZestyTako' 'NonStickyStickyNote'\n",
      " 'ImaginaryWeather6164' 'mrnesbittteaparty' 'popstarkirbys' 'jaapi'\n",
      " 'chiawei1984' 'AddressSpiritual9574' 'Secure-Abroad1718' 'Billib2002'\n",
      " 'exposed_anus' '-mueller-' 'No_Warthog_3584' 'isolated-cat'\n",
      " 'WorkingBicycle1958' 'THIS_IS_SO_HILARIOUS' 'theHoopty' 'Three_Licks'\n",
      " 'Curieuse34' 'P1SSW1ZARD' 'whatproblems' 'rian78' 'Prestigious-Pin-1053'\n",
      " 'FascinatingGarden' 'No-Poem-9846' 'cdmpants' 'randomlurker124'\n",
      " 'cantareSF' 'Mission_Shopping_847' 'WebHead1287' 'Vlistorito'\n",
      " 'bmiller5555' 'Manor002' 'Swirl_On_Top' 'STONKvsTITS' 'PatchyWhiskers'\n",
      " 'Smooth_Woodpecker427' 'PoliticsIsDepressing' 'rit13t' 'siberianmi'\n",
      " 'f12345abcde' 'McKnightmare24' 'Chelsea_Kias' 'chimengxiong'\n",
      " 'Current_Animator7546' 'Dela65' 'hackslash74' 'strangehitman22'\n",
      " 'UBSbagholdsGMEshorts' 'Lelouch25' 'Proper-Nectarine-69'\n",
      " 'AnnualSudden3805' 'Danat_shepard' 'jacobatz' 'blufin' 'Present_Wave3364'\n",
      " 'CulturalAtmosphere85' 'CombinationLittleD' 'Intrepid_Doubt_6602'\n",
      " 'Hiccup' 'scumido' 'jackandjill22' 'Chief-Default' 'Mr_Dorfmeister'\n",
      " 'ijuscrushalot' 'le_mihai' 'Ordinary-Office9180' 'lulububudu'\n",
      " 'yes_ur_wrong' 'I_am_Nerman']\n"
     ]
    }
   ],
   "source": [
    "print(len(reddit_stock[\"author\"].unique()))\n",
    "print(reddit_stock[\"author\"].unique())"
   ]
  },
  {
   "cell_type": "code",
   "execution_count": 89,
   "metadata": {},
   "outputs": [
    {
     "name": "stdout",
     "output_type": "stream",
     "text": [
      "['comment' 'post']\n"
     ]
    }
   ],
   "source": [
    "print(reddit_stock[\"type\"].unique())"
   ]
  },
  {
   "cell_type": "code",
   "execution_count": 90,
   "metadata": {},
   "outputs": [
    {
     "name": "stdout",
     "output_type": "stream",
     "text": [
      "['wallstreetbets' 'StockMarket' 'stockstobuytoday' 'stocks']\n"
     ]
    }
   ],
   "source": [
    "print(reddit_stock[\"subreddit\"].unique())"
   ]
  },
  {
   "cell_type": "code",
   "execution_count": 91,
   "metadata": {},
   "outputs": [
    {
     "data": {
      "image/png": "[encoded data removed]",
      "text/plain": [
       "<Figure size 800x400 with 1 Axes>"
      ]
     },
     "metadata": {},
     "output_type": "display_data"
    }
   ],
   "source": [
    "plt.figure(figsize=(8,4))\n",
    "reddit_stock['subreddit'].value_counts().plot(kind='bar', color='#A3B18A')\n",
    "plt.title(\"Post Distribution by Subreddit\")\n",
    "plt.xlabel(\"Subreddit\")\n",
    "plt.ylabel(\"Number of Posts\")\n",
    "plt.show()"
   ]
  },
  {
   "cell_type": "code",
   "execution_count": 92,
   "metadata": {},
   "outputs": [
    {
     "name": "stdout",
     "output_type": "stream",
     "text": [
      "               author                                              title  \\\n",
      "11   RememberTooSmile  Weekend Discussion Thread for the Weekend of A...   \n",
      "31          [deleted]                     Best EV / green mining stocks?   \n",
      "34       SmithRune735  It's fucking awful seeing the \"Silver\" misinfo...   \n",
      "42       SmithRune735  It's fucking awful seeing the \"Silver\" misinfo...   \n",
      "48            saasfin                          Earnings for current week   \n",
      "..                ...                                                ...   \n",
      "817         [deleted]  It's fucking awful seeing the \"Silver\" misinfo...   \n",
      "819              Zx40  BREAKING: China raises tariffs on U.S. goods t...   \n",
      "830      gamjatang111  r/Stocks Daily Discussion & Fundamentals Frida...   \n",
      "836           saasfin                                     Futures Market   \n",
      "844           saasfin                            Analyst Recommendations   \n",
      "\n",
      "    sentiment_name  \n",
      "11        positive  \n",
      "31        positive  \n",
      "34        negative  \n",
      "42        negative  \n",
      "48         neutral  \n",
      "..             ...  \n",
      "817       negative  \n",
      "819        neutral  \n",
      "830        neutral  \n",
      "836       positive  \n",
      "844        neutral  \n",
      "\n",
      "[146 rows x 3 columns]\n"
     ]
    }
   ],
   "source": [
    "# 找出出現 >=2 次的作者\n",
    "author_counts = reddit_stock[\"author\"].value_counts()\n",
    "authors_multi = author_counts[author_counts >= 2].index\n",
    "\n",
    "result = reddit_stock[reddit_stock[\"author\"].isin(authors_multi)][['author', 'title', 'sentiment_name']]\n",
    "print(result)"
   ]
  },
  {
   "cell_type": "code",
   "execution_count": 93,
   "metadata": {},
   "outputs": [
    {
     "name": "stdout",
     "output_type": "stream",
     "text": [
      "                  author  count  \\\n",
      "0                saasfin     57   \n",
      "1          AutoModerator     15   \n",
      "2              [deleted]     13   \n",
      "3               bullrfuk      5   \n",
      "4                 wutang      3   \n",
      "5              CarRamRob      3   \n",
      "6               FarrisAT      3   \n",
      "7          MutaliskGluon      3   \n",
      "8           gamjatang111      2   \n",
      "9             bro-v-wade      2   \n",
      "10          elgrandorado      2   \n",
      "11               giggy13      2   \n",
      "12     gary_oldman_sachs      2   \n",
      "13          homework8976      2   \n",
      "14               jrex035      2   \n",
      "15         sarhoshamiral      2   \n",
      "16              badasimo      2   \n",
      "17        AnonymusFarmer      2   \n",
      "18                  Zx40      2   \n",
      "19   Straight_Turnip7056      2   \n",
      "20          SmithRune735      2   \n",
      "21          SilentBeetle      2   \n",
      "22      RememberTooSmile      2   \n",
      "23      Ok-Scallion-9423      2   \n",
      "24         Maleficent298      2   \n",
      "25             KaitRaven      2   \n",
      "26    GoogleKushforLunch      2   \n",
      "27  Financial-Device-988      2   \n",
      "28            BrodyFlint      2   \n",
      "29             VisualMod      2   \n",
      "\n",
      "                                               titles  \n",
      "0   [Earnings for current week, r/stockstobuytoday...  \n",
      "1   [Rate My Portfolio - r/Stocks Quarterly Thread...  \n",
      "2   [Best EV / green mining stocks?, It's fucking ...  \n",
      "3   [Weekend Discussion Thread for the Weekend of ...  \n",
      "4   [Someone post the hotline please., Someone pos...  \n",
      "5   [U.S. 10-year Treasury yields rise as Trump ta...  \n",
      "6   [r/Stocks Daily Discussion & Fundamentals Frid...  \n",
      "7   [r/Stocks Daily Discussion & Fundamentals Frid...  \n",
      "8   [r/Stocks Daily Discussion & Fundamentals Frid...  \n",
      "9   [BREAKING: China raises tariffs on U.S. goods ...  \n",
      "10  [r/Stocks Daily Discussion & Fundamentals Frid...  \n",
      "11  [Rate My Portfolio - r/Stocks Quarterly Thread...  \n",
      "12  [r/Stocks Daily Discussion & Fundamentals Frid...  \n",
      "13  [Is the market in complete denial right now?, ...  \n",
      "14  [US consumer sentiment plummets to second-lowe...  \n",
      "15  [Is the market in complete denial right now?, ...  \n",
      "16  [r/Stocks Daily Discussion & Fundamentals Frid...  \n",
      "17  [Deep value vs Dividend!, Deep value vs Divide...  \n",
      "18  [BREAKING: China raises tariffs on U.S. goods ...  \n",
      "19  [Rate My Portfolio - r/Stocks Quarterly Thread...  \n",
      "20  [It's fucking awful seeing the \"Silver\" misinf...  \n",
      "21  [US consumer sentiment plummets to second-lowe...  \n",
      "22  [Weekend Discussion Thread for the Weekend of ...  \n",
      "23  [KAVL on the climb with a ton of potential, $K...  \n",
      "24  [AI being used for forestry and wildfire risk ...  \n",
      "25  [r/Stocks Daily Discussion & Fundamentals Frid...  \n",
      "26  [Weekend Discussion Thread for the Weekend of ...  \n",
      "27  [Anyone following $PBTS?, Anyone been followin...  \n",
      "28  [YOLO stocks thread. Reply with your ticker, N...  \n",
      "29  [Weekend Discussion Thread for the Weekend of ...  \n"
     ]
    }
   ],
   "source": [
    "#  列印那些出現 >= 2 次的作者，publish 那些 title，並根據出現的次數由大到小列印\n",
    "result = (\n",
    "    reddit_stock[reddit_stock[\"author\"].isin(authors_multi)]\n",
    "    .groupby(\"author\")\n",
    "    .agg(\n",
    "        count=(\"author\", \"size\"),                      # 出現次數\n",
    "        titles=(\"title\", lambda x: list(x))            # 該作者所有文章標題\n",
    "    )\n",
    "    .sort_values(by=\"count\", ascending=False) \n",
    "    .reset_index()\n",
    ")\n",
    "\n",
    "print(result)"
   ]
  },
  {
   "cell_type": "code",
   "execution_count": 94,
   "metadata": {},
   "outputs": [
    {
     "data": {
      "image/png": "[encoded data removed]",
      "text/plain": [
       "<Figure size 800x400 with 1 Axes>"
      ]
     },
     "metadata": {},
     "output_type": "display_data"
    }
   ],
   "source": [
    "# 每一個 subreddit 分類中，negative、neutral、positive 的數量\n",
    "sentiment_by_sub = reddit_stock.groupby(['subreddit', 'sentiment_name']).size().unstack(fill_value=0)\n",
    "\n",
    "sentiment_by_sub.plot(kind='bar', stacked=True, color=['#A26769', '#D5BDAF', '#A3B18A'], figsize=(8,4))\n",
    "plt.title(\"Sentiment Distribution per Subreddit\")\n",
    "plt.xlabel(\"Subreddit\")\n",
    "plt.ylabel(\"Count\")\n",
    "plt.show()"
   ]
  },
  {
   "cell_type": "markdown",
   "metadata": {},
   "source": [
    "## 4. Data Mining using Pandas\n",
    "### 4.1 Missing Values"
   ]
  },
  {
   "cell_type": "code",
   "execution_count": 95,
   "metadata": {},
   "outputs": [
    {
     "data": {
      "text/html": [
       "<div>\n",
       "<style scoped>\n",
       "    .dataframe tbody tr th:only-of-type {\n",
       "        vertical-align: middle;\n",
       "    }\n",
       "\n",
       "    .dataframe tbody tr th {\n",
       "        vertical-align: top;\n",
       "    }\n",
       "\n",
       "    .dataframe thead th {\n",
       "        text-align: right;\n",
       "    }\n",
       "</style>\n",
       "<table border=\"1\" class=\"dataframe\">\n",
       "  <thead>\n",
       "    <tr style=\"text-align: right;\">\n",
       "      <th></th>\n",
       "      <th>type</th>\n",
       "      <th>datetime</th>\n",
       "      <th>post_id</th>\n",
       "      <th>subreddit</th>\n",
       "      <th>title</th>\n",
       "      <th>author</th>\n",
       "      <th>url</th>\n",
       "      <th>upvotes</th>\n",
       "      <th>downvotes</th>\n",
       "      <th>upvote_ratio</th>\n",
       "      <th>text</th>\n",
       "      <th>subjectivity</th>\n",
       "      <th>polarity</th>\n",
       "      <th>sentiment</th>\n",
       "      <th>entities</th>\n",
       "      <th>label</th>\n",
       "      <th>sentiment_name</th>\n",
       "    </tr>\n",
       "  </thead>\n",
       "  <tbody>\n",
       "    <tr>\n",
       "      <th>0</th>\n",
       "      <td>False</td>\n",
       "      <td>False</td>\n",
       "      <td>False</td>\n",
       "      <td>False</td>\n",
       "      <td>False</td>\n",
       "      <td>False</td>\n",
       "      <td>False</td>\n",
       "      <td>False</td>\n",
       "      <td>True</td>\n",
       "      <td>True</td>\n",
       "      <td>False</td>\n",
       "      <td>False</td>\n",
       "      <td>False</td>\n",
       "      <td>False</td>\n",
       "      <td>False</td>\n",
       "      <td>False</td>\n",
       "      <td>False</td>\n",
       "    </tr>\n",
       "    <tr>\n",
       "      <th>1</th>\n",
       "      <td>False</td>\n",
       "      <td>False</td>\n",
       "      <td>False</td>\n",
       "      <td>False</td>\n",
       "      <td>False</td>\n",
       "      <td>False</td>\n",
       "      <td>False</td>\n",
       "      <td>False</td>\n",
       "      <td>True</td>\n",
       "      <td>True</td>\n",
       "      <td>False</td>\n",
       "      <td>False</td>\n",
       "      <td>False</td>\n",
       "      <td>False</td>\n",
       "      <td>False</td>\n",
       "      <td>False</td>\n",
       "      <td>False</td>\n",
       "    </tr>\n",
       "    <tr>\n",
       "      <th>2</th>\n",
       "      <td>False</td>\n",
       "      <td>False</td>\n",
       "      <td>False</td>\n",
       "      <td>False</td>\n",
       "      <td>False</td>\n",
       "      <td>False</td>\n",
       "      <td>False</td>\n",
       "      <td>False</td>\n",
       "      <td>True</td>\n",
       "      <td>True</td>\n",
       "      <td>False</td>\n",
       "      <td>False</td>\n",
       "      <td>False</td>\n",
       "      <td>False</td>\n",
       "      <td>False</td>\n",
       "      <td>False</td>\n",
       "      <td>False</td>\n",
       "    </tr>\n",
       "    <tr>\n",
       "      <th>3</th>\n",
       "      <td>False</td>\n",
       "      <td>False</td>\n",
       "      <td>False</td>\n",
       "      <td>False</td>\n",
       "      <td>False</td>\n",
       "      <td>False</td>\n",
       "      <td>False</td>\n",
       "      <td>False</td>\n",
       "      <td>False</td>\n",
       "      <td>False</td>\n",
       "      <td>False</td>\n",
       "      <td>False</td>\n",
       "      <td>False</td>\n",
       "      <td>False</td>\n",
       "      <td>False</td>\n",
       "      <td>False</td>\n",
       "      <td>False</td>\n",
       "    </tr>\n",
       "    <tr>\n",
       "      <th>4</th>\n",
       "      <td>False</td>\n",
       "      <td>False</td>\n",
       "      <td>False</td>\n",
       "      <td>False</td>\n",
       "      <td>False</td>\n",
       "      <td>False</td>\n",
       "      <td>False</td>\n",
       "      <td>False</td>\n",
       "      <td>True</td>\n",
       "      <td>True</td>\n",
       "      <td>False</td>\n",
       "      <td>False</td>\n",
       "      <td>False</td>\n",
       "      <td>False</td>\n",
       "      <td>False</td>\n",
       "      <td>False</td>\n",
       "      <td>False</td>\n",
       "    </tr>\n",
       "    <tr>\n",
       "      <th>...</th>\n",
       "      <td>...</td>\n",
       "      <td>...</td>\n",
       "      <td>...</td>\n",
       "      <td>...</td>\n",
       "      <td>...</td>\n",
       "      <td>...</td>\n",
       "      <td>...</td>\n",
       "      <td>...</td>\n",
       "      <td>...</td>\n",
       "      <td>...</td>\n",
       "      <td>...</td>\n",
       "      <td>...</td>\n",
       "      <td>...</td>\n",
       "      <td>...</td>\n",
       "      <td>...</td>\n",
       "      <td>...</td>\n",
       "      <td>...</td>\n",
       "    </tr>\n",
       "    <tr>\n",
       "      <th>842</th>\n",
       "      <td>False</td>\n",
       "      <td>False</td>\n",
       "      <td>False</td>\n",
       "      <td>False</td>\n",
       "      <td>False</td>\n",
       "      <td>False</td>\n",
       "      <td>False</td>\n",
       "      <td>False</td>\n",
       "      <td>True</td>\n",
       "      <td>True</td>\n",
       "      <td>False</td>\n",
       "      <td>False</td>\n",
       "      <td>False</td>\n",
       "      <td>False</td>\n",
       "      <td>False</td>\n",
       "      <td>False</td>\n",
       "      <td>False</td>\n",
       "    </tr>\n",
       "    <tr>\n",
       "      <th>843</th>\n",
       "      <td>False</td>\n",
       "      <td>False</td>\n",
       "      <td>False</td>\n",
       "      <td>False</td>\n",
       "      <td>False</td>\n",
       "      <td>False</td>\n",
       "      <td>False</td>\n",
       "      <td>False</td>\n",
       "      <td>True</td>\n",
       "      <td>True</td>\n",
       "      <td>False</td>\n",
       "      <td>False</td>\n",
       "      <td>False</td>\n",
       "      <td>False</td>\n",
       "      <td>False</td>\n",
       "      <td>False</td>\n",
       "      <td>False</td>\n",
       "    </tr>\n",
       "    <tr>\n",
       "      <th>844</th>\n",
       "      <td>False</td>\n",
       "      <td>False</td>\n",
       "      <td>False</td>\n",
       "      <td>False</td>\n",
       "      <td>False</td>\n",
       "      <td>False</td>\n",
       "      <td>False</td>\n",
       "      <td>False</td>\n",
       "      <td>False</td>\n",
       "      <td>False</td>\n",
       "      <td>False</td>\n",
       "      <td>False</td>\n",
       "      <td>False</td>\n",
       "      <td>False</td>\n",
       "      <td>False</td>\n",
       "      <td>False</td>\n",
       "      <td>False</td>\n",
       "    </tr>\n",
       "    <tr>\n",
       "      <th>845</th>\n",
       "      <td>False</td>\n",
       "      <td>False</td>\n",
       "      <td>False</td>\n",
       "      <td>False</td>\n",
       "      <td>False</td>\n",
       "      <td>False</td>\n",
       "      <td>False</td>\n",
       "      <td>False</td>\n",
       "      <td>True</td>\n",
       "      <td>True</td>\n",
       "      <td>False</td>\n",
       "      <td>False</td>\n",
       "      <td>False</td>\n",
       "      <td>False</td>\n",
       "      <td>False</td>\n",
       "      <td>False</td>\n",
       "      <td>False</td>\n",
       "    </tr>\n",
       "    <tr>\n",
       "      <th>846</th>\n",
       "      <td>False</td>\n",
       "      <td>False</td>\n",
       "      <td>False</td>\n",
       "      <td>False</td>\n",
       "      <td>False</td>\n",
       "      <td>False</td>\n",
       "      <td>False</td>\n",
       "      <td>False</td>\n",
       "      <td>True</td>\n",
       "      <td>True</td>\n",
       "      <td>False</td>\n",
       "      <td>False</td>\n",
       "      <td>False</td>\n",
       "      <td>False</td>\n",
       "      <td>False</td>\n",
       "      <td>False</td>\n",
       "      <td>False</td>\n",
       "    </tr>\n",
       "  </tbody>\n",
       "</table>\n",
       "<p>847 rows × 17 columns</p>\n",
       "</div>"
      ],
      "text/plain": [
       "      type  datetime  post_id  subreddit  title  author    url  upvotes  \\\n",
       "0    False     False    False      False  False   False  False    False   \n",
       "1    False     False    False      False  False   False  False    False   \n",
       "2    False     False    False      False  False   False  False    False   \n",
       "3    False     False    False      False  False   False  False    False   \n",
       "4    False     False    False      False  False   False  False    False   \n",
       "..     ...       ...      ...        ...    ...     ...    ...      ...   \n",
       "842  False     False    False      False  False   False  False    False   \n",
       "843  False     False    False      False  False   False  False    False   \n",
       "844  False     False    False      False  False   False  False    False   \n",
       "845  False     False    False      False  False   False  False    False   \n",
       "846  False     False    False      False  False   False  False    False   \n",
       "\n",
       "     downvotes  upvote_ratio   text  subjectivity  polarity  sentiment  \\\n",
       "0         True          True  False         False     False      False   \n",
       "1         True          True  False         False     False      False   \n",
       "2         True          True  False         False     False      False   \n",
       "3        False         False  False         False     False      False   \n",
       "4         True          True  False         False     False      False   \n",
       "..         ...           ...    ...           ...       ...        ...   \n",
       "842       True          True  False         False     False      False   \n",
       "843       True          True  False         False     False      False   \n",
       "844      False         False  False         False     False      False   \n",
       "845       True          True  False         False     False      False   \n",
       "846       True          True  False         False     False      False   \n",
       "\n",
       "     entities  label  sentiment_name  \n",
       "0       False  False           False  \n",
       "1       False  False           False  \n",
       "2       False  False           False  \n",
       "3       False  False           False  \n",
       "4       False  False           False  \n",
       "..        ...    ...             ...  \n",
       "842     False  False           False  \n",
       "843     False  False           False  \n",
       "844     False  False           False  \n",
       "845     False  False           False  \n",
       "846     False  False           False  \n",
       "\n",
       "[847 rows x 17 columns]"
      ]
     },
     "execution_count": 95,
     "metadata": {},
     "output_type": "execute_result"
    }
   ],
   "source": [
    "reddit_stock.isnull()"
   ]
  },
  {
   "cell_type": "code",
   "execution_count": 96,
   "metadata": {},
   "outputs": [
    {
     "data": {
      "text/html": [
       "<div>\n",
       "<style scoped>\n",
       "    .dataframe tbody tr th:only-of-type {\n",
       "        vertical-align: middle;\n",
       "    }\n",
       "\n",
       "    .dataframe tbody tr th {\n",
       "        vertical-align: top;\n",
       "    }\n",
       "\n",
       "    .dataframe thead th {\n",
       "        text-align: right;\n",
       "    }\n",
       "</style>\n",
       "<table border=\"1\" class=\"dataframe\">\n",
       "  <thead>\n",
       "    <tr style=\"text-align: right;\">\n",
       "      <th></th>\n",
       "      <th>type</th>\n",
       "      <th>datetime</th>\n",
       "      <th>post_id</th>\n",
       "      <th>subreddit</th>\n",
       "      <th>title</th>\n",
       "      <th>author</th>\n",
       "      <th>url</th>\n",
       "      <th>upvotes</th>\n",
       "      <th>downvotes</th>\n",
       "      <th>upvote_ratio</th>\n",
       "      <th>text</th>\n",
       "      <th>subjectivity</th>\n",
       "      <th>polarity</th>\n",
       "      <th>sentiment</th>\n",
       "      <th>entities</th>\n",
       "      <th>label</th>\n",
       "      <th>sentiment_name</th>\n",
       "    </tr>\n",
       "  </thead>\n",
       "  <tbody>\n",
       "    <tr>\n",
       "      <th>0</th>\n",
       "      <td>The amoung of missing records is:</td>\n",
       "      <td>The amoung of missing records is:</td>\n",
       "      <td>The amoung of missing records is:</td>\n",
       "      <td>The amoung of missing records is:</td>\n",
       "      <td>The amoung of missing records is:</td>\n",
       "      <td>The amoung of missing records is:</td>\n",
       "      <td>The amoung of missing records is:</td>\n",
       "      <td>The amoung of missing records is:</td>\n",
       "      <td>The amoung of missing records is:</td>\n",
       "      <td>The amoung of missing records is:</td>\n",
       "      <td>The amoung of missing records is:</td>\n",
       "      <td>The amoung of missing records is:</td>\n",
       "      <td>The amoung of missing records is:</td>\n",
       "      <td>The amoung of missing records is:</td>\n",
       "      <td>The amoung of missing records is:</td>\n",
       "      <td>The amoung of missing records is:</td>\n",
       "      <td>The amoung of missing records is:</td>\n",
       "    </tr>\n",
       "    <tr>\n",
       "      <th>1</th>\n",
       "      <td>0</td>\n",
       "      <td>0</td>\n",
       "      <td>0</td>\n",
       "      <td>0</td>\n",
       "      <td>0</td>\n",
       "      <td>0</td>\n",
       "      <td>0</td>\n",
       "      <td>0</td>\n",
       "      <td>783</td>\n",
       "      <td>783</td>\n",
       "      <td>0</td>\n",
       "      <td>0</td>\n",
       "      <td>0</td>\n",
       "      <td>0</td>\n",
       "      <td>0</td>\n",
       "      <td>0</td>\n",
       "      <td>0</td>\n",
       "    </tr>\n",
       "  </tbody>\n",
       "</table>\n",
       "</div>"
      ],
      "text/plain": [
       "                                 type                            datetime  \\\n",
       "0  The amoung of missing records is:   The amoung of missing records is:    \n",
       "1                                   0                                   0   \n",
       "\n",
       "                              post_id                           subreddit  \\\n",
       "0  The amoung of missing records is:   The amoung of missing records is:    \n",
       "1                                   0                                   0   \n",
       "\n",
       "                                title                              author  \\\n",
       "0  The amoung of missing records is:   The amoung of missing records is:    \n",
       "1                                   0                                   0   \n",
       "\n",
       "                                  url                             upvotes  \\\n",
       "0  The amoung of missing records is:   The amoung of missing records is:    \n",
       "1                                   0                                   0   \n",
       "\n",
       "                            downvotes                        upvote_ratio  \\\n",
       "0  The amoung of missing records is:   The amoung of missing records is:    \n",
       "1                                 783                                 783   \n",
       "\n",
       "                                 text                        subjectivity  \\\n",
       "0  The amoung of missing records is:   The amoung of missing records is:    \n",
       "1                                   0                                   0   \n",
       "\n",
       "                             polarity                           sentiment  \\\n",
       "0  The amoung of missing records is:   The amoung of missing records is:    \n",
       "1                                   0                                   0   \n",
       "\n",
       "                             entities                               label  \\\n",
       "0  The amoung of missing records is:   The amoung of missing records is:    \n",
       "1                                   0                                   0   \n",
       "\n",
       "                       sentiment_name  \n",
       "0  The amoung of missing records is:   \n",
       "1                                   0  "
      ]
     },
     "execution_count": 96,
     "metadata": {},
     "output_type": "execute_result"
    }
   ],
   "source": [
    "import helpers.data_mining_helpers as dmh\n",
    "\n",
    "reddit_stock.isnull().apply(lambda x: dmh.check_missing_values(x))"
   ]
  },
  {
   "cell_type": "code",
   "execution_count": 97,
   "metadata": {},
   "outputs": [
    {
     "data": {
      "text/plain": [
       "0      (The amoung of missing records is: , 2)\n",
       "1      (The amoung of missing records is: , 2)\n",
       "2      (The amoung of missing records is: , 2)\n",
       "3      (The amoung of missing records is: , 0)\n",
       "4      (The amoung of missing records is: , 2)\n",
       "                        ...                   \n",
       "842    (The amoung of missing records is: , 2)\n",
       "843    (The amoung of missing records is: , 2)\n",
       "844    (The amoung of missing records is: , 0)\n",
       "845    (The amoung of missing records is: , 2)\n",
       "846    (The amoung of missing records is: , 2)\n",
       "Length: 847, dtype: object"
      ]
     },
     "execution_count": 97,
     "metadata": {},
     "output_type": "execute_result"
    }
   ],
   "source": [
    "reddit_stock.isnull().apply(lambda x: dmh.check_missing_values(x), axis=1)"
   ]
  },
  {
   "cell_type": "code",
   "execution_count": 98,
   "metadata": {},
   "outputs": [
    {
     "data": {
      "text/plain": [
       "downvotes       0.924439\n",
       "upvote_ratio    0.924439\n",
       "dtype: float64"
      ]
     },
     "execution_count": 98,
     "metadata": {},
     "output_type": "execute_result"
    }
   ],
   "source": [
    "# 查看 'downvotes', 'upvote_ratio' 的 misssing value 比例\n",
    "reddit_stock[['downvotes', 'upvote_ratio']].isna().mean()"
   ]
  },
  {
   "cell_type": "code",
   "execution_count": 99,
   "metadata": {},
   "outputs": [],
   "source": [
    "dummy_series = pd.Series([\"wallstreetbets\", \"Retardation is on the menu boys! WSB is so bac\", \"kStickyTip420\", \"https://i.redd.it/0yq2ftren8ue1.jpeg\", \"0\", \"Calls on retards\", 1.0, -0.9, -1.0, [], -1.0]\n",
    "                        , index=[\"subreddit\", \"title\", \"author\", \"url\", \"upvotes\", \"text\", \"subjectivity\", \"polarity\",\t\"sentiment\", \"entities\", \"label\"])\n",
    "# \"comment\", \"2025-04-11 17:29:56\", \"mmli62w\", \"wallstreetbets\", \"Retardation is on the menu boys! WSB is so bac\", \"kStickyTip420\", \"https://i.redd.it/0yq2ftren8ue1.jpeg\", \"0\", \"Calls on retards\", 1.0, -0.9, -1.0, [], -1.0"
   ]
  },
  {
   "cell_type": "code",
   "execution_count": 100,
   "metadata": {},
   "outputs": [
    {
     "data": {
      "text/html": [
       "<div>\n",
       "<style scoped>\n",
       "    .dataframe tbody tr th:only-of-type {\n",
       "        vertical-align: middle;\n",
       "    }\n",
       "\n",
       "    .dataframe tbody tr th {\n",
       "        vertical-align: top;\n",
       "    }\n",
       "\n",
       "    .dataframe thead th {\n",
       "        text-align: right;\n",
       "    }\n",
       "</style>\n",
       "<table border=\"1\" class=\"dataframe\">\n",
       "  <thead>\n",
       "    <tr style=\"text-align: right;\">\n",
       "      <th></th>\n",
       "      <th>subreddit</th>\n",
       "      <th>title</th>\n",
       "      <th>author</th>\n",
       "      <th>url</th>\n",
       "      <th>upvotes</th>\n",
       "      <th>text</th>\n",
       "      <th>subjectivity</th>\n",
       "      <th>polarity</th>\n",
       "      <th>sentiment</th>\n",
       "      <th>entities</th>\n",
       "      <th>label</th>\n",
       "    </tr>\n",
       "  </thead>\n",
       "  <tbody>\n",
       "    <tr>\n",
       "      <th>0</th>\n",
       "      <td>wallstreetbets</td>\n",
       "      <td>Retardation is on the menu boys! WSB is so bac</td>\n",
       "      <td>kStickyTip420</td>\n",
       "      <td>https://i.redd.it/0yq2ftren8ue1.jpeg</td>\n",
       "      <td>0</td>\n",
       "      <td>Calls on retards</td>\n",
       "      <td>1.0</td>\n",
       "      <td>-0.9</td>\n",
       "      <td>-1.0</td>\n",
       "      <td>[]</td>\n",
       "      <td>-1.0</td>\n",
       "    </tr>\n",
       "  </tbody>\n",
       "</table>\n",
       "</div>"
      ],
      "text/plain": [
       "        subreddit                                           title  \\\n",
       "0  wallstreetbets  Retardation is on the menu boys! WSB is so bac   \n",
       "\n",
       "          author                                   url upvotes  \\\n",
       "0  kStickyTip420  https://i.redd.it/0yq2ftren8ue1.jpeg       0   \n",
       "\n",
       "               text subjectivity polarity sentiment entities label  \n",
       "0  Calls on retards          1.0     -0.9      -1.0       []  -1.0  "
      ]
     },
     "execution_count": 100,
     "metadata": {},
     "output_type": "execute_result"
    }
   ],
   "source": [
    "dummy_series.to_frame().T"
   ]
  },
  {
   "cell_type": "code",
   "execution_count": 101,
   "metadata": {},
   "outputs": [],
   "source": [
    "result_with_series = pd.concat([reddit_stock, dummy_series.to_frame().T], ignore_index=True)"
   ]
  },
  {
   "cell_type": "code",
   "execution_count": 102,
   "metadata": {},
   "outputs": [
    {
     "data": {
      "text/plain": [
       "848"
      ]
     },
     "execution_count": 102,
     "metadata": {},
     "output_type": "execute_result"
    }
   ],
   "source": [
    "len(result_with_series)"
   ]
  },
  {
   "cell_type": "code",
   "execution_count": 103,
   "metadata": {},
   "outputs": [
    {
     "data": {
      "text/html": [
       "<div>\n",
       "<style scoped>\n",
       "    .dataframe tbody tr th:only-of-type {\n",
       "        vertical-align: middle;\n",
       "    }\n",
       "\n",
       "    .dataframe tbody tr th {\n",
       "        vertical-align: top;\n",
       "    }\n",
       "\n",
       "    .dataframe thead th {\n",
       "        text-align: right;\n",
       "    }\n",
       "</style>\n",
       "<table border=\"1\" class=\"dataframe\">\n",
       "  <thead>\n",
       "    <tr style=\"text-align: right;\">\n",
       "      <th></th>\n",
       "      <th>type</th>\n",
       "      <th>datetime</th>\n",
       "      <th>post_id</th>\n",
       "      <th>subreddit</th>\n",
       "      <th>title</th>\n",
       "      <th>author</th>\n",
       "      <th>url</th>\n",
       "      <th>upvotes</th>\n",
       "      <th>downvotes</th>\n",
       "      <th>upvote_ratio</th>\n",
       "      <th>text</th>\n",
       "      <th>subjectivity</th>\n",
       "      <th>polarity</th>\n",
       "      <th>sentiment</th>\n",
       "      <th>entities</th>\n",
       "      <th>label</th>\n",
       "      <th>sentiment_name</th>\n",
       "    </tr>\n",
       "  </thead>\n",
       "  <tbody>\n",
       "    <tr>\n",
       "      <th>0</th>\n",
       "      <td>The amoung of missing records is:</td>\n",
       "      <td>The amoung of missing records is:</td>\n",
       "      <td>The amoung of missing records is:</td>\n",
       "      <td>The amoung of missing records is:</td>\n",
       "      <td>The amoung of missing records is:</td>\n",
       "      <td>The amoung of missing records is:</td>\n",
       "      <td>The amoung of missing records is:</td>\n",
       "      <td>The amoung of missing records is:</td>\n",
       "      <td>The amoung of missing records is:</td>\n",
       "      <td>The amoung of missing records is:</td>\n",
       "      <td>The amoung of missing records is:</td>\n",
       "      <td>The amoung of missing records is:</td>\n",
       "      <td>The amoung of missing records is:</td>\n",
       "      <td>The amoung of missing records is:</td>\n",
       "      <td>The amoung of missing records is:</td>\n",
       "      <td>The amoung of missing records is:</td>\n",
       "      <td>The amoung of missing records is:</td>\n",
       "    </tr>\n",
       "    <tr>\n",
       "      <th>1</th>\n",
       "      <td>1</td>\n",
       "      <td>1</td>\n",
       "      <td>1</td>\n",
       "      <td>0</td>\n",
       "      <td>0</td>\n",
       "      <td>0</td>\n",
       "      <td>0</td>\n",
       "      <td>0</td>\n",
       "      <td>784</td>\n",
       "      <td>784</td>\n",
       "      <td>0</td>\n",
       "      <td>0</td>\n",
       "      <td>0</td>\n",
       "      <td>0</td>\n",
       "      <td>0</td>\n",
       "      <td>0</td>\n",
       "      <td>1</td>\n",
       "    </tr>\n",
       "  </tbody>\n",
       "</table>\n",
       "</div>"
      ],
      "text/plain": [
       "                                 type                            datetime  \\\n",
       "0  The amoung of missing records is:   The amoung of missing records is:    \n",
       "1                                   1                                   1   \n",
       "\n",
       "                              post_id                           subreddit  \\\n",
       "0  The amoung of missing records is:   The amoung of missing records is:    \n",
       "1                                   1                                   0   \n",
       "\n",
       "                                title                              author  \\\n",
       "0  The amoung of missing records is:   The amoung of missing records is:    \n",
       "1                                   0                                   0   \n",
       "\n",
       "                                  url                             upvotes  \\\n",
       "0  The amoung of missing records is:   The amoung of missing records is:    \n",
       "1                                   0                                   0   \n",
       "\n",
       "                            downvotes                        upvote_ratio  \\\n",
       "0  The amoung of missing records is:   The amoung of missing records is:    \n",
       "1                                 784                                 784   \n",
       "\n",
       "                                 text                        subjectivity  \\\n",
       "0  The amoung of missing records is:   The amoung of missing records is:    \n",
       "1                                   0                                   0   \n",
       "\n",
       "                             polarity                           sentiment  \\\n",
       "0  The amoung of missing records is:   The amoung of missing records is:    \n",
       "1                                   0                                   0   \n",
       "\n",
       "                             entities                               label  \\\n",
       "0  The amoung of missing records is:   The amoung of missing records is:    \n",
       "1                                   0                                   0   \n",
       "\n",
       "                       sentiment_name  \n",
       "0  The amoung of missing records is:   \n",
       "1                                   1  "
      ]
     },
     "execution_count": 103,
     "metadata": {},
     "output_type": "execute_result"
    }
   ],
   "source": [
    "result_with_series.isnull().apply(lambda x: dmh.check_missing_values(x))"
   ]
  },
  {
   "cell_type": "markdown",
   "metadata": {},
   "source": [
    "### 4.2 Dealing with Duplicate Data"
   ]
  },
  {
   "cell_type": "code",
   "execution_count": 104,
   "metadata": {},
   "outputs": [
    {
     "data": {
      "text/plain": [
       "0      False\n",
       "1      False\n",
       "2      False\n",
       "3      False\n",
       "4      False\n",
       "       ...  \n",
       "842    False\n",
       "843    False\n",
       "844    False\n",
       "845    False\n",
       "846    False\n",
       "Length: 847, dtype: bool"
      ]
     },
     "execution_count": 104,
     "metadata": {},
     "output_type": "execute_result"
    }
   ],
   "source": [
    "reddit_stock.duplicated()"
   ]
  },
  {
   "cell_type": "code",
   "execution_count": 105,
   "metadata": {},
   "outputs": [
    {
     "data": {
      "text/plain": [
       "0"
      ]
     },
     "execution_count": 105,
     "metadata": {},
     "output_type": "execute_result"
    }
   ],
   "source": [
    "sum(reddit_stock.duplicated())"
   ]
  },
  {
   "cell_type": "code",
   "execution_count": 106,
   "metadata": {},
   "outputs": [
    {
     "data": {
      "text/plain": [
       "844"
      ]
     },
     "execution_count": 106,
     "metadata": {},
     "output_type": "execute_result"
    }
   ],
   "source": [
    "# 單純想實驗看看而已，我知道這個資訊對我們來說無意義\n",
    "# ‘sentiment’目前只有三個值的可能，看 .duplicated('sentiment') 會如何反應\n",
    "\n",
    "sum(reddit_stock.duplicated('sentiment'))"
   ]
  },
  {
   "cell_type": "code",
   "execution_count": 107,
   "metadata": {},
   "outputs": [],
   "source": [
    "# 新增兩筆相同的資料\n",
    "dummy_duplicate_dict = [{\n",
    "                              \"subreddit\": \"Hehe\",\n",
    "                              \"title\": \"Heheheheheheheh\", \n",
    "                              \"author\": \"zeroan\",\n",
    "                              \"url\":  \"https://zz\",\n",
    "                              \"upvotes\": \"0\",\n",
    "                              \"text\": \"Calls me again\",\n",
    "                              \"subjectivity\": 1.0,\n",
    "                              \"polarity\": 0.9,\n",
    "                              \"sentiment\": 1,\n",
    "                              \"label\": -1.0\n",
    "                         },\n",
    "                         {\n",
    "                              \"subreddit\": \"Hehe\",\n",
    "                              \"title\": \"Heheheheheheheh\", \n",
    "                              \"author\": \"zeroan\",\n",
    "                              \"url\":  \"https://zz\",\n",
    "                              \"upvotes\": \"0\",\n",
    "                              \"text\": \"Calls me again\",\n",
    "                              \"subjectivity\": 1.0,\n",
    "                              \"polarity\": 0.9,\n",
    "                              \"sentiment\": 1,\n",
    "                              \"label\": -1.0\n",
    "                         }]"
   ]
  },
  {
   "cell_type": "code",
   "execution_count": 108,
   "metadata": {},
   "outputs": [],
   "source": [
    "test_reddit_stock = pd.concat([reddit_stock, pd.DataFrame(dummy_duplicate_dict)], ignore_index=True)"
   ]
  },
  {
   "cell_type": "code",
   "execution_count": 109,
   "metadata": {},
   "outputs": [
    {
     "data": {
      "text/plain": [
       "849"
      ]
     },
     "execution_count": 109,
     "metadata": {},
     "output_type": "execute_result"
    }
   ],
   "source": [
    "len(test_reddit_stock)"
   ]
  },
  {
   "cell_type": "code",
   "execution_count": 110,
   "metadata": {},
   "outputs": [
    {
     "data": {
      "text/plain": [
       "1"
      ]
     },
     "execution_count": 110,
     "metadata": {},
     "output_type": "execute_result"
    }
   ],
   "source": [
    "sum(test_reddit_stock.duplicated())"
   ]
  },
  {
   "cell_type": "code",
   "execution_count": 111,
   "metadata": {},
   "outputs": [],
   "source": [
    "# 刪除剛剛新增用來測試的 duplicate data\n",
    "test_reddit_stock.drop_duplicates(keep=False, inplace=True)"
   ]
  },
  {
   "cell_type": "code",
   "execution_count": 112,
   "metadata": {},
   "outputs": [
    {
     "data": {
      "text/plain": [
       "847"
      ]
     },
     "execution_count": 112,
     "metadata": {},
     "output_type": "execute_result"
    }
   ],
   "source": [
    "# 驗證是否成功刪除\n",
    "len(test_reddit_stock)"
   ]
  },
  {
   "cell_type": "markdown",
   "metadata": {},
   "source": [
    "## 5.  Data Preprocessing\n",
    "### 5.1 Sampling"
   ]
  },
  {
   "cell_type": "code",
   "execution_count": 113,
   "metadata": {},
   "outputs": [],
   "source": [
    "reddit_stock_sample = reddit_stock.sample(n=400) # random state"
   ]
  },
  {
   "cell_type": "code",
   "execution_count": 114,
   "metadata": {},
   "outputs": [
    {
     "data": {
      "text/html": [
       "<div>\n",
       "<style scoped>\n",
       "    .dataframe tbody tr th:only-of-type {\n",
       "        vertical-align: middle;\n",
       "    }\n",
       "\n",
       "    .dataframe tbody tr th {\n",
       "        vertical-align: top;\n",
       "    }\n",
       "\n",
       "    .dataframe thead th {\n",
       "        text-align: right;\n",
       "    }\n",
       "</style>\n",
       "<table border=\"1\" class=\"dataframe\">\n",
       "  <thead>\n",
       "    <tr style=\"text-align: right;\">\n",
       "      <th></th>\n",
       "      <th>type</th>\n",
       "      <th>datetime</th>\n",
       "      <th>post_id</th>\n",
       "      <th>subreddit</th>\n",
       "      <th>title</th>\n",
       "      <th>author</th>\n",
       "      <th>url</th>\n",
       "      <th>upvotes</th>\n",
       "      <th>downvotes</th>\n",
       "      <th>upvote_ratio</th>\n",
       "      <th>text</th>\n",
       "      <th>subjectivity</th>\n",
       "      <th>polarity</th>\n",
       "      <th>sentiment</th>\n",
       "      <th>entities</th>\n",
       "      <th>label</th>\n",
       "      <th>sentiment_name</th>\n",
       "    </tr>\n",
       "  </thead>\n",
       "  <tbody>\n",
       "    <tr>\n",
       "      <th>591</th>\n",
       "      <td>comment</td>\n",
       "      <td>2025-04-11 12:25:24</td>\n",
       "      <td>mmjvdbj</td>\n",
       "      <td>stocks</td>\n",
       "      <td>Is the market in complete denial right now?</td>\n",
       "      <td>ShogunMyrnn</td>\n",
       "      <td>https://www.reddit.com/r/stocks/comments/1jwo1...</td>\n",
       "      <td>3</td>\n",
       "      <td>NaN</td>\n",
       "      <td>NaN</td>\n",
       "      <td>US companies will get damaged this year, I wou...</td>\n",
       "      <td>0.56746</td>\n",
       "      <td>0.292857</td>\n",
       "      <td>1.0</td>\n",
       "      <td>['year', 'q1', 'downturn', 'US', 'Too', 'tesla...</td>\n",
       "      <td>-1.0</td>\n",
       "      <td>positive</td>\n",
       "    </tr>\n",
       "    <tr>\n",
       "      <th>178</th>\n",
       "      <td>comment</td>\n",
       "      <td>2025-04-09 13:41:17</td>\n",
       "      <td>mm7kq9b</td>\n",
       "      <td>stockstobuytoday</td>\n",
       "      <td>If you had $10k in cash…</td>\n",
       "      <td>Electric_seal2</td>\n",
       "      <td>https://www.reddit.com/r/stockstobuytoday/comm...</td>\n",
       "      <td>1</td>\n",
       "      <td>NaN</td>\n",
       "      <td>NaN</td>\n",
       "      <td>Buy a cool car bro</td>\n",
       "      <td>0.65000</td>\n",
       "      <td>0.350000</td>\n",
       "      <td>1.0</td>\n",
       "      <td>['bro', 'car']</td>\n",
       "      <td>0.0</td>\n",
       "      <td>positive</td>\n",
       "    </tr>\n",
       "    <tr>\n",
       "      <th>779</th>\n",
       "      <td>comment</td>\n",
       "      <td>2025-04-11 5:24:07</td>\n",
       "      <td>mmim4ho</td>\n",
       "      <td>StockMarket</td>\n",
       "      <td>Data Shows US Allies—Not China—Dumping Treasuries</td>\n",
       "      <td>THIS_IS_SO_HILARIOUS</td>\n",
       "      <td>https://i.redd.it/31r650bss4ue1.jpeg</td>\n",
       "      <td>1</td>\n",
       "      <td>NaN</td>\n",
       "      <td>NaN</td>\n",
       "      <td>Please, dump all of them.</td>\n",
       "      <td>0.00000</td>\n",
       "      <td>0.000000</td>\n",
       "      <td>0.0</td>\n",
       "      <td>['Please']</td>\n",
       "      <td>-1.0</td>\n",
       "      <td>neutral</td>\n",
       "    </tr>\n",
       "    <tr>\n",
       "      <th>197</th>\n",
       "      <td>comment</td>\n",
       "      <td>2025-04-11 4:25:29</td>\n",
       "      <td>mmif8lk</td>\n",
       "      <td>StockMarket</td>\n",
       "      <td>$ U.S. dollar value (crashing)</td>\n",
       "      <td>jpm0719</td>\n",
       "      <td>https://i.redd.it/atvlo83gk4ue1.jpeg</td>\n",
       "      <td>7</td>\n",
       "      <td>NaN</td>\n",
       "      <td>NaN</td>\n",
       "      <td>Agolf Shittler or tangerine toddler.</td>\n",
       "      <td>0.00000</td>\n",
       "      <td>0.000000</td>\n",
       "      <td>0.0</td>\n",
       "      <td>['Shittler', 'Agolf', 'toddler']</td>\n",
       "      <td>-1.0</td>\n",
       "      <td>neutral</td>\n",
       "    </tr>\n",
       "    <tr>\n",
       "      <th>398</th>\n",
       "      <td>comment</td>\n",
       "      <td>2025-04-11 21:41:29</td>\n",
       "      <td>mmmvba2</td>\n",
       "      <td>wallstreetbets</td>\n",
       "      <td>Weekend Discussion Thread for the Weekend of A...</td>\n",
       "      <td>TargetDreams</td>\n",
       "      <td>https://www.reddit.com/r/wallstreetbets/commen...</td>\n",
       "      <td>45</td>\n",
       "      <td>NaN</td>\n",
       "      <td>NaN</td>\n",
       "      <td>How this Friday pumped is beyond me.</td>\n",
       "      <td>0.00000</td>\n",
       "      <td>0.000000</td>\n",
       "      <td>0.0</td>\n",
       "      <td>['Friday']</td>\n",
       "      <td>0.0</td>\n",
       "      <td>neutral</td>\n",
       "    </tr>\n",
       "  </tbody>\n",
       "</table>\n",
       "</div>"
      ],
      "text/plain": [
       "        type             datetime  post_id         subreddit  \\\n",
       "591  comment  2025-04-11 12:25:24  mmjvdbj            stocks   \n",
       "178  comment  2025-04-09 13:41:17  mm7kq9b  stockstobuytoday   \n",
       "779  comment   2025-04-11 5:24:07  mmim4ho       StockMarket   \n",
       "197  comment   2025-04-11 4:25:29  mmif8lk       StockMarket   \n",
       "398  comment  2025-04-11 21:41:29  mmmvba2    wallstreetbets   \n",
       "\n",
       "                                                 title                author  \\\n",
       "591        Is the market in complete denial right now?           ShogunMyrnn   \n",
       "178                           If you had $10k in cash…        Electric_seal2   \n",
       "779  Data Shows US Allies—Not China—Dumping Treasuries  THIS_IS_SO_HILARIOUS   \n",
       "197                     $ U.S. dollar value (crashing)               jpm0719   \n",
       "398  Weekend Discussion Thread for the Weekend of A...          TargetDreams   \n",
       "\n",
       "                                                   url  upvotes  downvotes  \\\n",
       "591  https://www.reddit.com/r/stocks/comments/1jwo1...        3        NaN   \n",
       "178  https://www.reddit.com/r/stockstobuytoday/comm...        1        NaN   \n",
       "779               https://i.redd.it/31r650bss4ue1.jpeg        1        NaN   \n",
       "197               https://i.redd.it/atvlo83gk4ue1.jpeg        7        NaN   \n",
       "398  https://www.reddit.com/r/wallstreetbets/commen...       45        NaN   \n",
       "\n",
       "     upvote_ratio                                               text  \\\n",
       "591           NaN  US companies will get damaged this year, I wou...   \n",
       "178           NaN                                 Buy a cool car bro   \n",
       "779           NaN                          Please, dump all of them.   \n",
       "197           NaN               Agolf Shittler or tangerine toddler.   \n",
       "398           NaN               How this Friday pumped is beyond me.   \n",
       "\n",
       "     subjectivity  polarity  sentiment  \\\n",
       "591       0.56746  0.292857        1.0   \n",
       "178       0.65000  0.350000        1.0   \n",
       "779       0.00000  0.000000        0.0   \n",
       "197       0.00000  0.000000        0.0   \n",
       "398       0.00000  0.000000        0.0   \n",
       "\n",
       "                                              entities  label sentiment_name  \n",
       "591  ['year', 'q1', 'downturn', 'US', 'Too', 'tesla...   -1.0       positive  \n",
       "178                                     ['bro', 'car']    0.0       positive  \n",
       "779                                         ['Please']   -1.0        neutral  \n",
       "197                   ['Shittler', 'Agolf', 'toddler']   -1.0        neutral  \n",
       "398                                         ['Friday']    0.0        neutral  "
      ]
     },
     "execution_count": 114,
     "metadata": {},
     "output_type": "execute_result"
    }
   ],
   "source": [
    "reddit_stock_sample[0:5]"
   ]
  },
  {
   "cell_type": "code",
   "execution_count": 115,
   "metadata": {},
   "outputs": [
    {
     "data": {
      "image/png": "[encoded data removed]",
      "text/plain": [
       "<Figure size 600x400 with 1 Axes>"
      ]
     },
     "metadata": {},
     "output_type": "display_data"
    }
   ],
   "source": [
    "import matplotlib.pyplot as plt\n",
    "%matplotlib inline\n",
    "\n",
    "# vusualize the sentiment categories quantities\n",
    "neg_count = len(reddit_stock[reddit_stock['sentiment_name'] == 'negative'])\n",
    "neu_count = len(reddit_stock[reddit_stock['sentiment_name'] == 'neutral'])\n",
    "pos_count = len(reddit_stock[reddit_stock['sentiment_name'] == 'positive'])\n",
    "\n",
    "categories = ['Negative', 'Neutral', 'Positive']\n",
    "counts = [neg_count, neu_count, pos_count]\n",
    "\n",
    "plt.figure(figsize=(6,4))\n",
    "plt.bar(categories, counts, color=['#A26769', '#D5BDAF', '#A3B18A'] )\n",
    "plt.title(\"Sentiment Distribution\")\n",
    "plt.xlabel(\"Sentiment Category\")\n",
    "plt.ylabel(\"Count\")\n",
    "plt.ylim(0, max(counts) + 50)\n",
    "plt.show()"
   ]
  },
  {
   "cell_type": "code",
   "execution_count": 116,
   "metadata": {},
   "outputs": [
    {
     "data": {
      "text/plain": [
       "<Axes: title={'center': 'Category distribution'}>"
      ]
     },
     "execution_count": 116,
     "metadata": {},
     "output_type": "execute_result"
    },
    {
     "data": {
      "image/png": "[encoded data removed]",
      "text/plain": [
       "<Figure size 800x300 with 1 Axes>"
      ]
     },
     "metadata": {},
     "output_type": "display_data"
    }
   ],
   "source": [
    "s1 = reddit_stock.sentiment_name.value_counts()\n",
    "s2 = reddit_stock_sample.sentiment_name.value_counts()\n",
    "\n",
    "df = pd.concat([s1.rename(\"all_data\"), s2.rename(\"after_sampling\")], axis=1)\n",
    "df.index.name = None\n",
    "df.plot(kind='bar',\n",
    "        title='Category distribution',\n",
    "        ylim=[0, max(s1.max(), s2.max())+50], \n",
    "        rot=0, fontsize=12, figsize=(8,3),\n",
    "        color=['#A26769', '#A3B18A'])"
   ]
  },
  {
   "cell_type": "markdown",
   "metadata": {},
   "source": [
    "### 5.2 Feature Creation"
   ]
  },
  {
   "cell_type": "code",
   "execution_count": 117,
   "metadata": {},
   "outputs": [
    {
     "name": "stderr",
     "output_type": "stream",
     "text": [
      "[nltk_data] Downloading package punkt to /Users/zeroan/nltk_data...\n",
      "[nltk_data]   Package punkt is already up-to-date!\n",
      "[nltk_data] Downloading package punkt_tab to\n",
      "[nltk_data]     /Users/zeroan/nltk_data...\n",
      "[nltk_data]   Package punkt_tab is already up-to-date!\n"
     ]
    },
    {
     "data": {
      "text/plain": [
       "True"
      ]
     },
     "execution_count": 117,
     "metadata": {},
     "output_type": "execute_result"
    }
   ],
   "source": [
    "import nltk\n",
    "nltk.download(\"punkt\")\n",
    "nltk.download(\"punkt_tab\")"
   ]
  },
  {
   "cell_type": "code",
   "execution_count": 118,
   "metadata": {},
   "outputs": [],
   "source": [
    "def tokenize_text(text, remove_stopwords=False):\n",
    "    \"\"\"\n",
    "    Tokenize text using the nltk library\n",
    "    \"\"\"\n",
    "    tokens = []\n",
    "    for d in nltk.sent_tokenize(text, language='english'):\n",
    "        for word in nltk.word_tokenize(d, language='english'):\n",
    "            # filters here\n",
    "            tokens.append(word)\n",
    "    return tokens\n",
    "\n",
    "reddit_stock['unigrams'] = reddit_stock['text'].apply(lambda x: dmh.tokenize_text(x))"
   ]
  },
  {
   "cell_type": "code",
   "execution_count": 119,
   "metadata": {},
   "outputs": [
    {
     "data": {
      "text/plain": [
       "0                                 [Calls, on, retards]\n",
       "1    [Stunt, as, in, like, why, did, they, even, ma...\n",
       "2          [Seeing, lots, of, red, in, the, ticker, .]\n",
       "3    [Vision, Marine, Technologies, Inc., is, rewri...\n",
       "Name: unigrams, dtype: object"
      ]
     },
     "execution_count": 119,
     "metadata": {},
     "output_type": "execute_result"
    }
   ],
   "source": [
    "reddit_stock[0:4][\"unigrams\"]"
   ]
  },
  {
   "cell_type": "code",
   "execution_count": 120,
   "metadata": {},
   "outputs": [
    {
     "data": {
      "text/plain": [
       "[['Stunt',\n",
       "  'as',\n",
       "  'in',\n",
       "  'like',\n",
       "  'why',\n",
       "  'did',\n",
       "  'they',\n",
       "  'even',\n",
       "  'make',\n",
       "  'a',\n",
       "  'big',\n",
       "  'deal',\n",
       "  'about',\n",
       "  'starting',\n",
       "  'it',\n",
       "  'in',\n",
       "  'the',\n",
       "  'first',\n",
       "  'place',\n",
       "  '?',\n",
       "  'No',\n",
       "  'company',\n",
       "  'should',\n",
       "  'ever',\n",
       "  'talk',\n",
       "  'about',\n",
       "  'politics',\n",
       "  'ever',\n",
       "  '.']]"
      ]
     },
     "execution_count": 120,
     "metadata": {},
     "output_type": "execute_result"
    }
   ],
   "source": [
    "list(reddit_stock[1:2]['unigrams'])"
   ]
  },
  {
   "cell_type": "markdown",
   "metadata": {},
   "source": [
    "### 5.3 Feature subset selection"
   ]
  },
  {
   "cell_type": "code",
   "execution_count": 121,
   "metadata": {},
   "outputs": [
    {
     "name": "stdout",
     "output_type": "stream",
     "text": [
      "  (np.int32(0), np.int32(692))\t1\n",
      "  (np.int32(0), np.int32(2706))\t1\n",
      "  (np.int32(0), np.int32(3248))\t1\n"
     ]
    }
   ],
   "source": [
    "from sklearn.feature_extraction.text import CountVectorizer\n",
    "\n",
    "count_vect = CountVectorizer()\n",
    "reddit_stock_counts = count_vect.fit_transform(reddit_stock.text) #learn the vocabulary and return document-term matrix\n",
    "print(reddit_stock_counts[0])"
   ]
  },
  {
   "cell_type": "code",
   "execution_count": 122,
   "metadata": {},
   "outputs": [
    {
     "data": {
      "text/plain": [
       "(847, 4346)"
      ]
     },
     "execution_count": 122,
     "metadata": {},
     "output_type": "execute_result"
    }
   ],
   "source": [
    "reddit_stock_counts.shape"
   ]
  },
  {
   "cell_type": "code",
   "execution_count": 123,
   "metadata": {},
   "outputs": [
    {
     "data": {
      "text/plain": [
       "array([[0, 0, 0, 0, 0, 0, 0, 0, 0, 0, 0, 0, 0, 0, 0, 0, 0, 0, 0, 0, 0, 0,\n",
       "        0, 0, 0, 0, 0, 0, 0, 0, 0, 0, 0, 0, 0, 0, 0, 0, 0, 0, 0, 0, 0, 0,\n",
       "        0, 0, 0, 0, 0, 0, 0, 0, 0, 0, 0, 0, 0, 0, 0, 0, 0, 0, 0, 0, 0, 0,\n",
       "        0, 0, 0, 0, 0, 0, 0, 0, 0, 0, 0, 0, 0, 0, 0, 0, 0, 0, 0, 0, 0, 0,\n",
       "        0, 0, 0, 0, 0, 0, 0, 0, 0, 0, 0, 0],\n",
       "       [0, 0, 0, 0, 0, 0, 0, 0, 0, 0, 0, 0, 0, 0, 0, 0, 0, 0, 0, 0, 0, 0,\n",
       "        0, 0, 0, 0, 0, 0, 0, 0, 0, 0, 0, 0, 0, 0, 0, 0, 0, 0, 0, 0, 0, 0,\n",
       "        0, 0, 0, 0, 0, 0, 0, 0, 0, 0, 0, 0, 0, 0, 0, 0, 0, 0, 0, 0, 0, 0,\n",
       "        0, 0, 0, 0, 0, 0, 0, 0, 0, 0, 0, 0, 0, 0, 0, 0, 0, 0, 0, 0, 0, 0,\n",
       "        0, 0, 0, 0, 0, 0, 0, 0, 0, 0, 0, 0],\n",
       "       [0, 0, 0, 0, 0, 0, 0, 0, 0, 0, 0, 0, 0, 0, 0, 0, 0, 0, 0, 0, 0, 0,\n",
       "        0, 0, 0, 0, 0, 0, 0, 0, 0, 0, 0, 0, 0, 0, 0, 0, 0, 0, 0, 0, 0, 0,\n",
       "        0, 0, 0, 0, 0, 0, 0, 0, 0, 0, 0, 0, 0, 0, 0, 0, 0, 0, 0, 0, 0, 0,\n",
       "        0, 0, 0, 0, 0, 0, 0, 0, 0, 0, 0, 0, 0, 0, 0, 0, 0, 0, 0, 0, 0, 0,\n",
       "        0, 0, 0, 0, 0, 0, 0, 0, 0, 0, 0, 0],\n",
       "       [0, 0, 0, 0, 0, 0, 0, 0, 0, 0, 0, 0, 0, 0, 0, 0, 0, 0, 3, 0, 0, 0,\n",
       "        0, 0, 0, 0, 0, 0, 0, 0, 0, 0, 0, 0, 0, 0, 0, 0, 0, 0, 0, 0, 0, 0,\n",
       "        0, 0, 0, 0, 0, 0, 0, 0, 0, 0, 0, 0, 0, 0, 0, 0, 0, 0, 0, 0, 0, 0,\n",
       "        0, 0, 0, 0, 0, 0, 0, 0, 0, 0, 0, 0, 0, 0, 0, 0, 0, 0, 0, 0, 0, 0,\n",
       "        0, 0, 0, 0, 0, 0, 0, 0, 0, 0, 0, 0],\n",
       "       [0, 0, 0, 0, 0, 0, 0, 0, 0, 0, 0, 0, 0, 0, 0, 0, 0, 0, 0, 0, 0, 0,\n",
       "        0, 0, 0, 0, 0, 0, 0, 0, 0, 0, 0, 0, 0, 0, 0, 0, 0, 0, 0, 0, 0, 0,\n",
       "        0, 0, 0, 0, 0, 0, 0, 0, 0, 0, 0, 0, 0, 0, 0, 0, 0, 0, 0, 0, 0, 0,\n",
       "        0, 0, 0, 0, 0, 0, 0, 0, 0, 0, 0, 0, 0, 0, 0, 0, 0, 0, 0, 0, 0, 0,\n",
       "        0, 0, 0, 0, 0, 0, 0, 0, 0, 0, 0, 0]])"
      ]
     },
     "execution_count": 123,
     "metadata": {},
     "output_type": "execute_result"
    }
   ],
   "source": [
    "reddit_stock_counts[0:5, 0:100].toarray()"
   ]
  },
  {
   "cell_type": "code",
   "execution_count": 124,
   "metadata": {},
   "outputs": [
    {
     "name": "stdout",
     "output_type": "stream",
     "text": [
      "['about', 'as', 'big', 'company', 'deal', 'did', 'even', 'ever', 'first', 'in', 'it', 'like', 'make', 'no', 'place', 'politics', 'should', 'starting', 'stunt', 'talk', 'the', 'they', 'why']\n"
     ]
    }
   ],
   "source": [
    "row = reddit_stock_counts[1].toarray()\n",
    "indices = row.nonzero()[1]\n",
    "word = [count_vect.get_feature_names_out()[i] for i in indices]\n",
    "print(word)"
   ]
  },
  {
   "cell_type": "code",
   "execution_count": 125,
   "metadata": {},
   "outputs": [
    {
     "data": {
      "image/png": "[encoded data removed]",
      "text/plain": [
       "<Figure size 1200x800 with 2 Axes>"
      ]
     },
     "metadata": {},
     "output_type": "display_data"
    }
   ],
   "source": [
    "import numpy as np\n",
    "import pandas as pd\n",
    "import seaborn as sns\n",
    "import matplotlib.pyplot as plt\n",
    "\n",
    "# 計算每一個 term 在文件數出現次數，並選出次數 > 10 的 term\n",
    "df = np.asarray((reddit_stock_counts > 0).sum(axis=0)).ravel()\n",
    "cols_keep = np.where(df > 10)[0]                   \n",
    "\n",
    "# 取出這些欄，接著保留那些欄位值非 0 的文章\n",
    "X_sub = reddit_stock_counts[:, cols_keep]\n",
    "row_nnz = np.asarray((X_sub > 0).sum(axis=1)).ravel()\n",
    "rows_keep = np.where(row_nnz > 0)[0]\n",
    "\n",
    "rows_keep = rows_keep[:20]\n",
    "cols_keep = cols_keep[:30]\n",
    "\n",
    "dense = reddit_stock_counts[rows_keep][:, cols_keep].toarray()\n",
    "\n",
    "vocab = count_vect.get_feature_names_out()\n",
    "df_plot = pd.DataFrame(dense,\n",
    "                       index=[f\"doc_{i}\" for i in rows_keep],\n",
    "                       columns=vocab[cols_keep])\n",
    "\n",
    "plt.figure(figsize=(min(14, 0.2*len(cols_keep)+6), min(10, 0.2*len(rows_keep)+4)))\n",
    "sns.heatmap(df_plot,\n",
    "            cmap=\"PuRd\",\n",
    "            vmin=0, vmax=1, annot=True)\n",
    "plt.show()"
   ]
  },
  {
   "cell_type": "markdown",
   "metadata": {},
   "source": [
    "### 5.4 Attribute Transformation / Aggregation\n",
    "###  5.4.1 Transform Text Data"
   ]
  },
  {
   "cell_type": "code",
   "execution_count": 126,
   "metadata": {},
   "outputs": [
    {
     "data": {
      "text/plain": [
       "np.int64(4)"
      ]
     },
     "execution_count": 126,
     "metadata": {},
     "output_type": "execute_result"
    }
   ],
   "source": [
    "term_frequencies = np.asarray(reddit_stock_counts.sum(axis=0))[0]\n",
    "term_frequencies[0]"
   ]
  },
  {
   "cell_type": "code",
   "execution_count": 127,
   "metadata": {},
   "outputs": [
    {
     "data": {
      "application/vnd.plotly.v1+json": {
       "config": {
        "plotlyServerURL": "https://plot.ly"
       },
       "data": [
        {
         "hovertemplate": "Terms=%{x}<br>Frequency=%{y}<extra></extra>",
         "legendgroup": "",
         "marker": {
          "color": "#636efa",
          "pattern": {
           "shape": ""
          }
         },
         "name": "",
         "orientation": "v",
         "showlegend": false,
         "textposition": "auto",
         "type": "bar",
         "x": [
          "the",
          "to",
          "and",
          "is",
          "it",
          "of",
          "in",
          "that",
          "for",
          "this",
          "you",
          "on",
          "are",
          "they",
          "be",
          "he",
          "will",
          "with",
          "if",
          "as",
          "market",
          "but",
          "not",
          "so",
          "have",
          "all",
          "us",
          "just",
          "was",
          "at",
          "trump",
          "my",
          "what",
          "can",
          "like",
          "we",
          "or",
          "has",
          "their",
          "about",
          "china",
          "more",
          "from",
          "now",
          "there",
          "no",
          "by",
          "re",
          "up",
          "how",
          "one",
          "do",
          "some",
          "even",
          "think",
          "them",
          "his",
          "people",
          "stock",
          "going",
          "your",
          "an",
          "good",
          "money",
          "out",
          "would",
          "any",
          "see",
          "when",
          "who",
          "than",
          "only",
          "tariffs",
          "why",
          "been",
          "get",
          "time",
          "make",
          "him",
          "other",
          "price",
          "want",
          "me",
          "don",
          "into",
          "then",
          "down",
          "over",
          "doing",
          "could",
          "silver",
          "futures",
          "because",
          "company",
          "right",
          "still",
          "x200b",
          "go",
          "our",
          "should",
          "years",
          "after",
          "day",
          "here",
          "also",
          "economy",
          "world",
          "today",
          "did",
          "stocks",
          "much",
          "first",
          "really",
          "last",
          "doesn",
          "dollar",
          "way",
          "buy",
          "well",
          "know",
          "most",
          "were",
          "off",
          "companies",
          "long",
          "too",
          "new",
          "does",
          "its",
          "these",
          "week",
          "com",
          "stockbuyvest",
          "everyone",
          "year",
          "since",
          "10",
          "back",
          "trade",
          "sell",
          "ve",
          "which",
          "ll",
          "better",
          "bad",
          "call",
          "look",
          "looking",
          "every",
          "same",
          "xi",
          "american",
          "fuck",
          "t5_2th52",
          "need",
          "things",
          "wants",
          "own",
          "say",
          "emote",
          "already",
          "someone",
          "high",
          "term",
          "img",
          "never",
          "anything",
          "let",
          "trading",
          "may",
          "take",
          "many",
          "isn",
          "thing",
          "point",
          "before",
          "literally",
          "where",
          "had",
          "selling",
          "bond",
          "bonds",
          "america",
          "am",
          "big",
          "president",
          "seems",
          "news",
          "shit",
          "got",
          "investors",
          "end",
          "always",
          "feel",
          "daily",
          "country",
          "usa",
          "war",
          "reason",
          "invest",
          "higher",
          "hold",
          "next",
          "again",
          "nothing",
          "future",
          "something",
          "technology",
          "calls",
          "didn",
          "portfolio",
          "few",
          "put",
          "made",
          "sure",
          "gold",
          "she",
          "updated",
          "pretty",
          "deal",
          "tariff",
          "countries",
          "come",
          "least",
          "without",
          "buying",
          "reddit",
          "might",
          "chinese",
          "anyone",
          "worse",
          "everything",
          "another",
          "data",
          "currently",
          "industry",
          "lot",
          "target",
          "50",
          "happening",
          "great",
          "far",
          "said",
          "done",
          "won",
          "else",
          "lose",
          "ago",
          "lower",
          "went",
          "work",
          "usd",
          "please",
          "power",
          "puts",
          "spy",
          "real",
          "plan",
          "rest",
          "lithium",
          "gonna",
          "moving",
          "making",
          "getting",
          "life",
          "called",
          "ever",
          "star",
          "free",
          "lol",
          "seen",
          "fed",
          "cash",
          "while",
          "actually",
          "very",
          "growth",
          "risk",
          "probably",
          "happen",
          "believe",
          "investment",
          "rates",
          "100",
          "place",
          "support",
          "idea",
          "markets",
          "thanks",
          "maybe",
          "earnings",
          "being",
          "government",
          "love",
          "those",
          "group",
          "short",
          "help",
          "little",
          "haven"
         ],
         "xaxis": "x",
         "y": {
          "bdata": "mAM2AugBkgFeATcBHgHuANYA1QDDAKsAmwCWAIYAhAB/AH4AdwBzAG8AbABrAGcAYQBhAGAAXwBeAFwAXABZAFgAVQBTAFEAUQBMAEgASABIAEMAPwA+AD4APQA6ADkANwA3ADYANQA0ADQANAA0ADMAMwAzADIAMAAvAC4ALgAtAC0ALQArACoAKQApACcAJwAmACUAJQAkACQAJAAkACQAIwAiACIAIgAhACAAIAAgAB8AHgAeAB4AHQAdABwAHAAbABsAGwAbABsAGwAaABoAGgAaABoAGQAZABkAGQAYABgAGAAYABgAGAAXABcAFwAXABcAFwAXABcAFgAWABYAFgAWABYAFgAVABUAFQAVABUAFQAVABQAFAAUABQAFAATABMAEwATABMAEwATABIAEgASABIAEgASABIAEgASABIAEgASABIAEgARABEAEQARABEAEQARABEAEQAQABAAEAAQABAAEAAQABAAEAAQABAAEAAQABAAEAAQAA8ADwAPAA8ADwAPAA8ADwAPAA8ADwAOAA4ADgAOAA4ADgAOAA4ADgAOAA4ADgAOAA4ADQANAA0ADQANAA0ADQANAA0ADQANAA0ADQANAA0ADQANAA0ADAAMAAwADAAMAAwADAAMAAwADAAMAAwADAAMAAwADAAMAAwADAAMAAwADAAMAAwACwALAAsACwALAAsACwALAAsACwALAAsACwALAAsACwALAAsACwALAAsACwALAAsACwALAAoACgAKAAoACgAKAAoACgAKAAoACgAKAAoACgAKAAoA",
          "dtype": "i2"
         },
         "yaxis": "y"
        }
       ],
       "layout": {
        "barmode": "relative",
        "legend": {
         "tracegroupgap": 0
        },
        "margin": {
         "t": 60
        },
        "template": {
         "data": {
          "bar": [
           {
            "error_x": {
             "color": "#2a3f5f"
            },
            "error_y": {
             "color": "#2a3f5f"
            },
            "marker": {
             "line": {
              "color": "#E5ECF6",
              "width": 0.5
             },
             "pattern": {
              "fillmode": "overlay",
              "size": 10,
              "solidity": 0.2
             }
            },
            "type": "bar"
           }
          ],
          "barpolar": [
           {
            "marker": {
             "line": {
              "color": "#E5ECF6",
              "width": 0.5
             },
             "pattern": {
              "fillmode": "overlay",
              "size": 10,
              "solidity": 0.2
             }
            },
            "type": "barpolar"
           }
          ],
          "carpet": [
           {
            "aaxis": {
             "endlinecolor": "#2a3f5f",
             "gridcolor": "white",
             "linecolor": "white",
             "minorgridcolor": "white",
             "startlinecolor": "#2a3f5f"
            },
            "baxis": {
             "endlinecolor": "#2a3f5f",
             "gridcolor": "white",
             "linecolor": "white",
             "minorgridcolor": "white",
             "startlinecolor": "#2a3f5f"
            },
            "type": "carpet"
           }
          ],
          "choropleth": [
           {
            "colorbar": {
             "outlinewidth": 0,
             "ticks": ""
            },
            "type": "choropleth"
           }
          ],
          "contour": [
           {
            "colorbar": {
             "outlinewidth": 0,
             "ticks": ""
            },
            "colorscale": [
             [
              0,
              "#0d0887"
             ],
             [
              0.1111111111111111,
              "#46039f"
             ],
             [
              0.2222222222222222,
              "#7201a8"
             ],
             [
              0.3333333333333333,
              "#9c179e"
             ],
             [
              0.4444444444444444,
              "#bd3786"
             ],
             [
              0.5555555555555556,
              "#d8576b"
             ],
             [
              0.6666666666666666,
              "#ed7953"
             ],
             [
              0.7777777777777778,
              "#fb9f3a"
             ],
             [
              0.8888888888888888,
              "#fdca26"
             ],
             [
              1,
              "#f0f921"
             ]
            ],
            "type": "contour"
           }
          ],
          "contourcarpet": [
           {
            "colorbar": {
             "outlinewidth": 0,
             "ticks": ""
            },
            "type": "contourcarpet"
           }
          ],
          "heatmap": [
           {
            "colorbar": {
             "outlinewidth": 0,
             "ticks": ""
            },
            "colorscale": [
             [
              0,
              "#0d0887"
             ],
             [
              0.1111111111111111,
              "#46039f"
             ],
             [
              0.2222222222222222,
              "#7201a8"
             ],
             [
              0.3333333333333333,
              "#9c179e"
             ],
             [
              0.4444444444444444,
              "#bd3786"
             ],
             [
              0.5555555555555556,
              "#d8576b"
             ],
             [
              0.6666666666666666,
              "#ed7953"
             ],
             [
              0.7777777777777778,
              "#fb9f3a"
             ],
             [
              0.8888888888888888,
              "#fdca26"
             ],
             [
              1,
              "#f0f921"
             ]
            ],
            "type": "heatmap"
           }
          ],
          "histogram": [
           {
            "marker": {
             "pattern": {
              "fillmode": "overlay",
              "size": 10,
              "solidity": 0.2
             }
            },
            "type": "histogram"
           }
          ],
          "histogram2d": [
           {
            "colorbar": {
             "outlinewidth": 0,
             "ticks": ""
            },
            "colorscale": [
             [
              0,
              "#0d0887"
             ],
             [
              0.1111111111111111,
              "#46039f"
             ],
             [
              0.2222222222222222,
              "#7201a8"
             ],
             [
              0.3333333333333333,
              "#9c179e"
             ],
             [
              0.4444444444444444,
              "#bd3786"
             ],
             [
              0.5555555555555556,
              "#d8576b"
             ],
             [
              0.6666666666666666,
              "#ed7953"
             ],
             [
              0.7777777777777778,
              "#fb9f3a"
             ],
             [
              0.8888888888888888,
              "#fdca26"
             ],
             [
              1,
              "#f0f921"
             ]
            ],
            "type": "histogram2d"
           }
          ],
          "histogram2dcontour": [
           {
            "colorbar": {
             "outlinewidth": 0,
             "ticks": ""
            },
            "colorscale": [
             [
              0,
              "#0d0887"
             ],
             [
              0.1111111111111111,
              "#46039f"
             ],
             [
              0.2222222222222222,
              "#7201a8"
             ],
             [
              0.3333333333333333,
              "#9c179e"
             ],
             [
              0.4444444444444444,
              "#bd3786"
             ],
             [
              0.5555555555555556,
              "#d8576b"
             ],
             [
              0.6666666666666666,
              "#ed7953"
             ],
             [
              0.7777777777777778,
              "#fb9f3a"
             ],
             [
              0.8888888888888888,
              "#fdca26"
             ],
             [
              1,
              "#f0f921"
             ]
            ],
            "type": "histogram2dcontour"
           }
          ],
          "mesh3d": [
           {
            "colorbar": {
             "outlinewidth": 0,
             "ticks": ""
            },
            "type": "mesh3d"
           }
          ],
          "parcoords": [
           {
            "line": {
             "colorbar": {
              "outlinewidth": 0,
              "ticks": ""
             }
            },
            "type": "parcoords"
           }
          ],
          "pie": [
           {
            "automargin": true,
            "type": "pie"
           }
          ],
          "scatter": [
           {
            "fillpattern": {
             "fillmode": "overlay",
             "size": 10,
             "solidity": 0.2
            },
            "type": "scatter"
           }
          ],
          "scatter3d": [
           {
            "line": {
             "colorbar": {
              "outlinewidth": 0,
              "ticks": ""
             }
            },
            "marker": {
             "colorbar": {
              "outlinewidth": 0,
              "ticks": ""
             }
            },
            "type": "scatter3d"
           }
          ],
          "scattercarpet": [
           {
            "marker": {
             "colorbar": {
              "outlinewidth": 0,
              "ticks": ""
             }
            },
            "type": "scattercarpet"
           }
          ],
          "scattergeo": [
           {
            "marker": {
             "colorbar": {
              "outlinewidth": 0,
              "ticks": ""
             }
            },
            "type": "scattergeo"
           }
          ],
          "scattergl": [
           {
            "marker": {
             "colorbar": {
              "outlinewidth": 0,
              "ticks": ""
             }
            },
            "type": "scattergl"
           }
          ],
          "scattermap": [
           {
            "marker": {
             "colorbar": {
              "outlinewidth": 0,
              "ticks": ""
             }
            },
            "type": "scattermap"
           }
          ],
          "scattermapbox": [
           {
            "marker": {
             "colorbar": {
              "outlinewidth": 0,
              "ticks": ""
             }
            },
            "type": "scattermapbox"
           }
          ],
          "scatterpolar": [
           {
            "marker": {
             "colorbar": {
              "outlinewidth": 0,
              "ticks": ""
             }
            },
            "type": "scatterpolar"
           }
          ],
          "scatterpolargl": [
           {
            "marker": {
             "colorbar": {
              "outlinewidth": 0,
              "ticks": ""
             }
            },
            "type": "scatterpolargl"
           }
          ],
          "scatterternary": [
           {
            "marker": {
             "colorbar": {
              "outlinewidth": 0,
              "ticks": ""
             }
            },
            "type": "scatterternary"
           }
          ],
          "surface": [
           {
            "colorbar": {
             "outlinewidth": 0,
             "ticks": ""
            },
            "colorscale": [
             [
              0,
              "#0d0887"
             ],
             [
              0.1111111111111111,
              "#46039f"
             ],
             [
              0.2222222222222222,
              "#7201a8"
             ],
             [
              0.3333333333333333,
              "#9c179e"
             ],
             [
              0.4444444444444444,
              "#bd3786"
             ],
             [
              0.5555555555555556,
              "#d8576b"
             ],
             [
              0.6666666666666666,
              "#ed7953"
             ],
             [
              0.7777777777777778,
              "#fb9f3a"
             ],
             [
              0.8888888888888888,
              "#fdca26"
             ],
             [
              1,
              "#f0f921"
             ]
            ],
            "type": "surface"
           }
          ],
          "table": [
           {
            "cells": {
             "fill": {
              "color": "#EBF0F8"
             },
             "line": {
              "color": "white"
             }
            },
            "header": {
             "fill": {
              "color": "#C8D4E3"
             },
             "line": {
              "color": "white"
             }
            },
            "type": "table"
           }
          ]
         },
         "layout": {
          "annotationdefaults": {
           "arrowcolor": "#2a3f5f",
           "arrowhead": 0,
           "arrowwidth": 1
          },
          "autotypenumbers": "strict",
          "coloraxis": {
           "colorbar": {
            "outlinewidth": 0,
            "ticks": ""
           }
          },
          "colorscale": {
           "diverging": [
            [
             0,
             "#8e0152"
            ],
            [
             0.1,
             "#c51b7d"
            ],
            [
             0.2,
             "#de77ae"
            ],
            [
             0.3,
             "#f1b6da"
            ],
            [
             0.4,
             "#fde0ef"
            ],
            [
             0.5,
             "#f7f7f7"
            ],
            [
             0.6,
             "#e6f5d0"
            ],
            [
             0.7,
             "#b8e186"
            ],
            [
             0.8,
             "#7fbc41"
            ],
            [
             0.9,
             "#4d9221"
            ],
            [
             1,
             "#276419"
            ]
           ],
           "sequential": [
            [
             0,
             "#0d0887"
            ],
            [
             0.1111111111111111,
             "#46039f"
            ],
            [
             0.2222222222222222,
             "#7201a8"
            ],
            [
             0.3333333333333333,
             "#9c179e"
            ],
            [
             0.4444444444444444,
             "#bd3786"
            ],
            [
             0.5555555555555556,
             "#d8576b"
            ],
            [
             0.6666666666666666,
             "#ed7953"
            ],
            [
             0.7777777777777778,
             "#fb9f3a"
            ],
            [
             0.8888888888888888,
             "#fdca26"
            ],
            [
             1,
             "#f0f921"
            ]
           ],
           "sequentialminus": [
            [
             0,
             "#0d0887"
            ],
            [
             0.1111111111111111,
             "#46039f"
            ],
            [
             0.2222222222222222,
             "#7201a8"
            ],
            [
             0.3333333333333333,
             "#9c179e"
            ],
            [
             0.4444444444444444,
             "#bd3786"
            ],
            [
             0.5555555555555556,
             "#d8576b"
            ],
            [
             0.6666666666666666,
             "#ed7953"
            ],
            [
             0.7777777777777778,
             "#fb9f3a"
            ],
            [
             0.8888888888888888,
             "#fdca26"
            ],
            [
             1,
             "#f0f921"
            ]
           ]
          },
          "colorway": [
           "#636efa",
           "#EF553B",
           "#00cc96",
           "#ab63fa",
           "#FFA15A",
           "#19d3f3",
           "#FF6692",
           "#B6E880",
           "#FF97FF",
           "#FECB52"
          ],
          "font": {
           "color": "#2a3f5f"
          },
          "geo": {
           "bgcolor": "white",
           "lakecolor": "white",
           "landcolor": "#E5ECF6",
           "showlakes": true,
           "showland": true,
           "subunitcolor": "white"
          },
          "hoverlabel": {
           "align": "left"
          },
          "hovermode": "closest",
          "mapbox": {
           "style": "light"
          },
          "paper_bgcolor": "white",
          "plot_bgcolor": "#E5ECF6",
          "polar": {
           "angularaxis": {
            "gridcolor": "white",
            "linecolor": "white",
            "ticks": ""
           },
           "bgcolor": "#E5ECF6",
           "radialaxis": {
            "gridcolor": "white",
            "linecolor": "white",
            "ticks": ""
           }
          },
          "scene": {
           "xaxis": {
            "backgroundcolor": "#E5ECF6",
            "gridcolor": "white",
            "gridwidth": 2,
            "linecolor": "white",
            "showbackground": true,
            "ticks": "",
            "zerolinecolor": "white"
           },
           "yaxis": {
            "backgroundcolor": "#E5ECF6",
            "gridcolor": "white",
            "gridwidth": 2,
            "linecolor": "white",
            "showbackground": true,
            "ticks": "",
            "zerolinecolor": "white"
           },
           "zaxis": {
            "backgroundcolor": "#E5ECF6",
            "gridcolor": "white",
            "gridwidth": 2,
            "linecolor": "white",
            "showbackground": true,
            "ticks": "",
            "zerolinecolor": "white"
           }
          },
          "shapedefaults": {
           "line": {
            "color": "#2a3f5f"
           }
          },
          "ternary": {
           "aaxis": {
            "gridcolor": "white",
            "linecolor": "white",
            "ticks": ""
           },
           "baxis": {
            "gridcolor": "white",
            "linecolor": "white",
            "ticks": ""
           },
           "bgcolor": "#E5ECF6",
           "caxis": {
            "gridcolor": "white",
            "linecolor": "white",
            "ticks": ""
           }
          },
          "title": {
           "x": 0.05
          },
          "xaxis": {
           "automargin": true,
           "gridcolor": "white",
           "linecolor": "white",
           "ticks": "",
           "title": {
            "standoff": 15
           },
           "zerolinecolor": "white",
           "zerolinewidth": 2
          },
          "yaxis": {
           "automargin": true,
           "gridcolor": "white",
           "linecolor": "white",
           "ticks": "",
           "title": {
            "standoff": 15
           },
           "zerolinecolor": "white",
           "zerolinewidth": 2
          }
         }
        },
        "xaxis": {
         "anchor": "y",
         "domain": [
          0,
          1
         ],
         "tickangle": -90,
         "title": {
          "text": "Terms"
         }
        },
        "yaxis": {
         "anchor": "x",
         "domain": [
          0,
          1
         ],
         "title": {
          "text": "Frequency"
         }
        }
       }
      }
     },
     "metadata": {},
     "output_type": "display_data"
    }
   ],
   "source": [
    "import numpy as np\n",
    "import plotly.express as px\n",
    "\n",
    "sorted_idx = np.argsort(term_frequencies)[::-1]   # 由大到小排序\n",
    "sorted_words = vocab[sorted_idx]\n",
    "sorted_freqs = term_frequencies[sorted_idx]\n",
    "\n",
    "fig = px.bar(\n",
    "    x=sorted_words[:300],    \n",
    "    y=sorted_freqs[:300],\n",
    "    labels={'x': 'Terms', 'y': 'Frequency'}\n",
    ")\n",
    "fig.update_layout(xaxis_tickangle=-90)\n",
    "fig.show()"
   ]
  },
  {
   "cell_type": "code",
   "execution_count": 128,
   "metadata": {},
   "outputs": [
    {
     "data": {
      "application/vnd.plotly.v1+json": {
       "config": {
        "plotlyServerURL": "https://plot.ly"
       },
       "data": [
        {
         "hovertemplate": "Terms=%{x}<br>Frequency=%{y}<extra></extra>",
         "legendgroup": "",
         "marker": {
          "color": "#636efa",
          "pattern": {
           "shape": ""
          }
         },
         "name": "",
         "orientation": "v",
         "showlegend": false,
         "textposition": "auto",
         "type": "bar",
         "x": [
          "the",
          "to",
          "and",
          "is",
          "it",
          "of",
          "in",
          "that",
          "for",
          "this",
          "you",
          "on",
          "are",
          "they",
          "be",
          "he",
          "will",
          "with",
          "if",
          "as",
          "market",
          "but",
          "not",
          "so",
          "have",
          "all",
          "us",
          "just",
          "was",
          "at",
          "trump",
          "my",
          "what",
          "can",
          "like",
          "we",
          "or",
          "has",
          "their",
          "about",
          "china",
          "more",
          "from",
          "now",
          "there",
          "no",
          "by",
          "re",
          "up",
          "how",
          "one",
          "do",
          "some",
          "even",
          "think",
          "them",
          "his",
          "people",
          "stock",
          "going",
          "your",
          "an",
          "good",
          "money",
          "out",
          "would",
          "any",
          "see",
          "when",
          "who",
          "than",
          "only",
          "tariffs",
          "why",
          "been",
          "get",
          "time",
          "make",
          "him",
          "other",
          "price",
          "want",
          "me",
          "don",
          "into",
          "then",
          "down",
          "over",
          "doing",
          "could",
          "silver",
          "futures",
          "because",
          "company",
          "right",
          "still",
          "x200b",
          "go",
          "our",
          "should",
          "years",
          "after",
          "day",
          "here",
          "also",
          "economy",
          "world",
          "today",
          "did",
          "stocks",
          "much",
          "first",
          "really",
          "last",
          "doesn",
          "dollar",
          "way",
          "buy",
          "well",
          "know",
          "most",
          "were",
          "off",
          "companies",
          "long",
          "too",
          "new",
          "does",
          "its",
          "these",
          "week",
          "com",
          "stockbuyvest",
          "everyone",
          "year",
          "since",
          "10",
          "back",
          "trade",
          "sell",
          "ve",
          "which",
          "ll",
          "better",
          "bad",
          "call",
          "look",
          "looking",
          "every",
          "same",
          "xi",
          "american",
          "fuck",
          "t5_2th52",
          "need",
          "things",
          "wants",
          "own",
          "say",
          "emote",
          "already",
          "someone",
          "high",
          "term",
          "img",
          "never",
          "anything",
          "let",
          "trading",
          "may",
          "take",
          "many",
          "isn",
          "thing",
          "point",
          "before",
          "literally",
          "where",
          "had",
          "selling",
          "bond",
          "bonds",
          "america",
          "am",
          "big",
          "president",
          "seems",
          "news",
          "shit",
          "got",
          "investors",
          "end",
          "always",
          "feel",
          "daily",
          "country",
          "usa",
          "war",
          "reason",
          "invest",
          "higher",
          "hold",
          "next",
          "again",
          "nothing",
          "future",
          "something",
          "technology",
          "calls",
          "didn",
          "portfolio",
          "few",
          "put",
          "made",
          "sure",
          "gold",
          "she",
          "updated",
          "pretty",
          "deal",
          "tariff",
          "countries",
          "come",
          "least",
          "without",
          "buying",
          "reddit",
          "might",
          "chinese",
          "anyone",
          "worse",
          "everything",
          "another",
          "data",
          "currently",
          "industry",
          "lot",
          "target",
          "50",
          "happening",
          "great",
          "far",
          "said",
          "done",
          "won",
          "else",
          "lose",
          "ago",
          "lower",
          "went",
          "work",
          "usd",
          "please",
          "power",
          "puts",
          "spy",
          "real",
          "plan",
          "rest",
          "lithium",
          "gonna",
          "moving",
          "making",
          "getting",
          "life",
          "called",
          "ever",
          "star",
          "free",
          "lol",
          "seen",
          "fed",
          "cash",
          "while",
          "actually",
          "very",
          "growth",
          "risk",
          "probably",
          "happen",
          "believe",
          "investment",
          "rates",
          "100",
          "place",
          "support",
          "idea",
          "markets",
          "thanks",
          "maybe",
          "earnings",
          "being",
          "government",
          "love",
          "those",
          "group",
          "short",
          "help",
          "little",
          "haven"
         ],
         "xaxis": "x",
         "y": {
          "bdata": "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",
          "dtype": "f8"
         },
         "yaxis": "y"
        }
       ],
       "layout": {
        "barmode": "relative",
        "legend": {
         "tracegroupgap": 0
        },
        "template": {
         "data": {
          "bar": [
           {
            "error_x": {
             "color": "#2a3f5f"
            },
            "error_y": {
             "color": "#2a3f5f"
            },
            "marker": {
             "line": {
              "color": "#E5ECF6",
              "width": 0.5
             },
             "pattern": {
              "fillmode": "overlay",
              "size": 10,
              "solidity": 0.2
             }
            },
            "type": "bar"
           }
          ],
          "barpolar": [
           {
            "marker": {
             "line": {
              "color": "#E5ECF6",
              "width": 0.5
             },
             "pattern": {
              "fillmode": "overlay",
              "size": 10,
              "solidity": 0.2
             }
            },
            "type": "barpolar"
           }
          ],
          "carpet": [
           {
            "aaxis": {
             "endlinecolor": "#2a3f5f",
             "gridcolor": "white",
             "linecolor": "white",
             "minorgridcolor": "white",
             "startlinecolor": "#2a3f5f"
            },
            "baxis": {
             "endlinecolor": "#2a3f5f",
             "gridcolor": "white",
             "linecolor": "white",
             "minorgridcolor": "white",
             "startlinecolor": "#2a3f5f"
            },
            "type": "carpet"
           }
          ],
          "choropleth": [
           {
            "colorbar": {
             "outlinewidth": 0,
             "ticks": ""
            },
            "type": "choropleth"
           }
          ],
          "contour": [
           {
            "colorbar": {
             "outlinewidth": 0,
             "ticks": ""
            },
            "colorscale": [
             [
              0,
              "#0d0887"
             ],
             [
              0.1111111111111111,
              "#46039f"
             ],
             [
              0.2222222222222222,
              "#7201a8"
             ],
             [
              0.3333333333333333,
              "#9c179e"
             ],
             [
              0.4444444444444444,
              "#bd3786"
             ],
             [
              0.5555555555555556,
              "#d8576b"
             ],
             [
              0.6666666666666666,
              "#ed7953"
             ],
             [
              0.7777777777777778,
              "#fb9f3a"
             ],
             [
              0.8888888888888888,
              "#fdca26"
             ],
             [
              1,
              "#f0f921"
             ]
            ],
            "type": "contour"
           }
          ],
          "contourcarpet": [
           {
            "colorbar": {
             "outlinewidth": 0,
             "ticks": ""
            },
            "type": "contourcarpet"
           }
          ],
          "heatmap": [
           {
            "colorbar": {
             "outlinewidth": 0,
             "ticks": ""
            },
            "colorscale": [
             [
              0,
              "#0d0887"
             ],
             [
              0.1111111111111111,
              "#46039f"
             ],
             [
              0.2222222222222222,
              "#7201a8"
             ],
             [
              0.3333333333333333,
              "#9c179e"
             ],
             [
              0.4444444444444444,
              "#bd3786"
             ],
             [
              0.5555555555555556,
              "#d8576b"
             ],
             [
              0.6666666666666666,
              "#ed7953"
             ],
             [
              0.7777777777777778,
              "#fb9f3a"
             ],
             [
              0.8888888888888888,
              "#fdca26"
             ],
             [
              1,
              "#f0f921"
             ]
            ],
            "type": "heatmap"
           }
          ],
          "histogram": [
           {
            "marker": {
             "pattern": {
              "fillmode": "overlay",
              "size": 10,
              "solidity": 0.2
             }
            },
            "type": "histogram"
           }
          ],
          "histogram2d": [
           {
            "colorbar": {
             "outlinewidth": 0,
             "ticks": ""
            },
            "colorscale": [
             [
              0,
              "#0d0887"
             ],
             [
              0.1111111111111111,
              "#46039f"
             ],
             [
              0.2222222222222222,
              "#7201a8"
             ],
             [
              0.3333333333333333,
              "#9c179e"
             ],
             [
              0.4444444444444444,
              "#bd3786"
             ],
             [
              0.5555555555555556,
              "#d8576b"
             ],
             [
              0.6666666666666666,
              "#ed7953"
             ],
             [
              0.7777777777777778,
              "#fb9f3a"
             ],
             [
              0.8888888888888888,
              "#fdca26"
             ],
             [
              1,
              "#f0f921"
             ]
            ],
            "type": "histogram2d"
           }
          ],
          "histogram2dcontour": [
           {
            "colorbar": {
             "outlinewidth": 0,
             "ticks": ""
            },
            "colorscale": [
             [
              0,
              "#0d0887"
             ],
             [
              0.1111111111111111,
              "#46039f"
             ],
             [
              0.2222222222222222,
              "#7201a8"
             ],
             [
              0.3333333333333333,
              "#9c179e"
             ],
             [
              0.4444444444444444,
              "#bd3786"
             ],
             [
              0.5555555555555556,
              "#d8576b"
             ],
             [
              0.6666666666666666,
              "#ed7953"
             ],
             [
              0.7777777777777778,
              "#fb9f3a"
             ],
             [
              0.8888888888888888,
              "#fdca26"
             ],
             [
              1,
              "#f0f921"
             ]
            ],
            "type": "histogram2dcontour"
           }
          ],
          "mesh3d": [
           {
            "colorbar": {
             "outlinewidth": 0,
             "ticks": ""
            },
            "type": "mesh3d"
           }
          ],
          "parcoords": [
           {
            "line": {
             "colorbar": {
              "outlinewidth": 0,
              "ticks": ""
             }
            },
            "type": "parcoords"
           }
          ],
          "pie": [
           {
            "automargin": true,
            "type": "pie"
           }
          ],
          "scatter": [
           {
            "fillpattern": {
             "fillmode": "overlay",
             "size": 10,
             "solidity": 0.2
            },
            "type": "scatter"
           }
          ],
          "scatter3d": [
           {
            "line": {
             "colorbar": {
              "outlinewidth": 0,
              "ticks": ""
             }
            },
            "marker": {
             "colorbar": {
              "outlinewidth": 0,
              "ticks": ""
             }
            },
            "type": "scatter3d"
           }
          ],
          "scattercarpet": [
           {
            "marker": {
             "colorbar": {
              "outlinewidth": 0,
              "ticks": ""
             }
            },
            "type": "scattercarpet"
           }
          ],
          "scattergeo": [
           {
            "marker": {
             "colorbar": {
              "outlinewidth": 0,
              "ticks": ""
             }
            },
            "type": "scattergeo"
           }
          ],
          "scattergl": [
           {
            "marker": {
             "colorbar": {
              "outlinewidth": 0,
              "ticks": ""
             }
            },
            "type": "scattergl"
           }
          ],
          "scattermap": [
           {
            "marker": {
             "colorbar": {
              "outlinewidth": 0,
              "ticks": ""
             }
            },
            "type": "scattermap"
           }
          ],
          "scattermapbox": [
           {
            "marker": {
             "colorbar": {
              "outlinewidth": 0,
              "ticks": ""
             }
            },
            "type": "scattermapbox"
           }
          ],
          "scatterpolar": [
           {
            "marker": {
             "colorbar": {
              "outlinewidth": 0,
              "ticks": ""
             }
            },
            "type": "scatterpolar"
           }
          ],
          "scatterpolargl": [
           {
            "marker": {
             "colorbar": {
              "outlinewidth": 0,
              "ticks": ""
             }
            },
            "type": "scatterpolargl"
           }
          ],
          "scatterternary": [
           {
            "marker": {
             "colorbar": {
              "outlinewidth": 0,
              "ticks": ""
             }
            },
            "type": "scatterternary"
           }
          ],
          "surface": [
           {
            "colorbar": {
             "outlinewidth": 0,
             "ticks": ""
            },
            "colorscale": [
             [
              0,
              "#0d0887"
             ],
             [
              0.1111111111111111,
              "#46039f"
             ],
             [
              0.2222222222222222,
              "#7201a8"
             ],
             [
              0.3333333333333333,
              "#9c179e"
             ],
             [
              0.4444444444444444,
              "#bd3786"
             ],
             [
              0.5555555555555556,
              "#d8576b"
             ],
             [
              0.6666666666666666,
              "#ed7953"
             ],
             [
              0.7777777777777778,
              "#fb9f3a"
             ],
             [
              0.8888888888888888,
              "#fdca26"
             ],
             [
              1,
              "#f0f921"
             ]
            ],
            "type": "surface"
           }
          ],
          "table": [
           {
            "cells": {
             "fill": {
              "color": "#EBF0F8"
             },
             "line": {
              "color": "white"
             }
            },
            "header": {
             "fill": {
              "color": "#C8D4E3"
             },
             "line": {
              "color": "white"
             }
            },
            "type": "table"
           }
          ]
         },
         "layout": {
          "annotationdefaults": {
           "arrowcolor": "#2a3f5f",
           "arrowhead": 0,
           "arrowwidth": 1
          },
          "autotypenumbers": "strict",
          "coloraxis": {
           "colorbar": {
            "outlinewidth": 0,
            "ticks": ""
           }
          },
          "colorscale": {
           "diverging": [
            [
             0,
             "#8e0152"
            ],
            [
             0.1,
             "#c51b7d"
            ],
            [
             0.2,
             "#de77ae"
            ],
            [
             0.3,
             "#f1b6da"
            ],
            [
             0.4,
             "#fde0ef"
            ],
            [
             0.5,
             "#f7f7f7"
            ],
            [
             0.6,
             "#e6f5d0"
            ],
            [
             0.7,
             "#b8e186"
            ],
            [
             0.8,
             "#7fbc41"
            ],
            [
             0.9,
             "#4d9221"
            ],
            [
             1,
             "#276419"
            ]
           ],
           "sequential": [
            [
             0,
             "#0d0887"
            ],
            [
             0.1111111111111111,
             "#46039f"
            ],
            [
             0.2222222222222222,
             "#7201a8"
            ],
            [
             0.3333333333333333,
             "#9c179e"
            ],
            [
             0.4444444444444444,
             "#bd3786"
            ],
            [
             0.5555555555555556,
             "#d8576b"
            ],
            [
             0.6666666666666666,
             "#ed7953"
            ],
            [
             0.7777777777777778,
             "#fb9f3a"
            ],
            [
             0.8888888888888888,
             "#fdca26"
            ],
            [
             1,
             "#f0f921"
            ]
           ],
           "sequentialminus": [
            [
             0,
             "#0d0887"
            ],
            [
             0.1111111111111111,
             "#46039f"
            ],
            [
             0.2222222222222222,
             "#7201a8"
            ],
            [
             0.3333333333333333,
             "#9c179e"
            ],
            [
             0.4444444444444444,
             "#bd3786"
            ],
            [
             0.5555555555555556,
             "#d8576b"
            ],
            [
             0.6666666666666666,
             "#ed7953"
            ],
            [
             0.7777777777777778,
             "#fb9f3a"
            ],
            [
             0.8888888888888888,
             "#fdca26"
            ],
            [
             1,
             "#f0f921"
            ]
           ]
          },
          "colorway": [
           "#636efa",
           "#EF553B",
           "#00cc96",
           "#ab63fa",
           "#FFA15A",
           "#19d3f3",
           "#FF6692",
           "#B6E880",
           "#FF97FF",
           "#FECB52"
          ],
          "font": {
           "color": "#2a3f5f"
          },
          "geo": {
           "bgcolor": "white",
           "lakecolor": "white",
           "landcolor": "#E5ECF6",
           "showlakes": true,
           "showland": true,
           "subunitcolor": "white"
          },
          "hoverlabel": {
           "align": "left"
          },
          "hovermode": "closest",
          "mapbox": {
           "style": "light"
          },
          "paper_bgcolor": "white",
          "plot_bgcolor": "#E5ECF6",
          "polar": {
           "angularaxis": {
            "gridcolor": "white",
            "linecolor": "white",
            "ticks": ""
           },
           "bgcolor": "#E5ECF6",
           "radialaxis": {
            "gridcolor": "white",
            "linecolor": "white",
            "ticks": ""
           }
          },
          "scene": {
           "xaxis": {
            "backgroundcolor": "#E5ECF6",
            "gridcolor": "white",
            "gridwidth": 2,
            "linecolor": "white",
            "showbackground": true,
            "ticks": "",
            "zerolinecolor": "white"
           },
           "yaxis": {
            "backgroundcolor": "#E5ECF6",
            "gridcolor": "white",
            "gridwidth": 2,
            "linecolor": "white",
            "showbackground": true,
            "ticks": "",
            "zerolinecolor": "white"
           },
           "zaxis": {
            "backgroundcolor": "#E5ECF6",
            "gridcolor": "white",
            "gridwidth": 2,
            "linecolor": "white",
            "showbackground": true,
            "ticks": "",
            "zerolinecolor": "white"
           }
          },
          "shapedefaults": {
           "line": {
            "color": "#2a3f5f"
           }
          },
          "ternary": {
           "aaxis": {
            "gridcolor": "white",
            "linecolor": "white",
            "ticks": ""
           },
           "baxis": {
            "gridcolor": "white",
            "linecolor": "white",
            "ticks": ""
           },
           "bgcolor": "#E5ECF6",
           "caxis": {
            "gridcolor": "white",
            "linecolor": "white",
            "ticks": ""
           }
          },
          "title": {
           "x": 0.05
          },
          "xaxis": {
           "automargin": true,
           "gridcolor": "white",
           "linecolor": "white",
           "ticks": "",
           "title": {
            "standoff": 15
           },
           "zerolinecolor": "white",
           "zerolinewidth": 2
          },
          "yaxis": {
           "automargin": true,
           "gridcolor": "white",
           "linecolor": "white",
           "ticks": "",
           "title": {
            "standoff": 15
           },
           "zerolinecolor": "white",
           "zerolinewidth": 2
          }
         }
        },
        "title": {
         "text": "Top 300 Most Frequent Terms by using log() to evaluate",
         "x": 0.5
        },
        "xaxis": {
         "anchor": "y",
         "domain": [
          0,
          1
         ],
         "tickangle": -90,
         "title": {
          "text": "Terms"
         }
        },
        "yaxis": {
         "anchor": "x",
         "domain": [
          0,
          1
         ],
         "title": {
          "text": "Frequency"
         }
        }
       }
      }
     },
     "metadata": {},
     "output_type": "display_data"
    }
   ],
   "source": [
    "import plotly.express as px\n",
    "import numpy as np\n",
    "\n",
    "# 找出詞頻最高的前 30 個詞\n",
    "vocab = count_vect.get_feature_names_out()\n",
    "term_frequencies_log = [math.log(i) for i in term_frequencies]\n",
    "freqs = np.asarray(term_frequencies_log, dtype=float)\n",
    "\n",
    "# .argsort() 會把 freqs 由小到大排序\n",
    "top_idx = np.argsort(freqs)[-300:][::-1]\n",
    "top_words = vocab[top_idx]\n",
    "top_freqs = freqs[top_idx]\n",
    "\n",
    "fig = px.bar(\n",
    "    x=top_words, \n",
    "    y=top_freqs,\n",
    "    labels={'x': 'Terms', 'y': 'Frequency'},\n",
    "    title='Top 300 Most Frequent Terms by using log() to evaluate',\n",
    ")\n",
    "\n",
    "fig.update_layout(xaxis_tickangle=-90) \n",
    "fig.update_layout(title={'x':0.5})\n",
    "fig.show()"
   ]
  },
  {
   "cell_type": "markdown",
   "metadata": {},
   "source": [
    "# Phase 2"
   ]
  },
  {
   "cell_type": "code",
   "execution_count": 129,
   "metadata": {},
   "outputs": [],
   "source": [
    "### Begin Assignment Here"
   ]
  }
 ],
 "metadata": {
  "kernelspec": {
   "display_name": "dm2025-lab1-exercise",
   "language": "python",
   "name": "python3"
  },
  "language_info": {
   "codemirror_mode": {
    "name": "ipython",
    "version": 3
   },
   "file_extension": ".py",
   "mimetype": "text/x-python",
   "name": "python",
   "nbconvert_exporter": "python",
   "pygments_lexer": "ipython3",
   "version": "3.11.0"
  }
 },
 "nbformat": 4,
 "nbformat_minor": 4
}
